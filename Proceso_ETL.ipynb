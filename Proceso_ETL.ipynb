{
 "cells": [
  {
   "cell_type": "code",
   "execution_count": 103,
   "metadata": {},
   "outputs": [],
   "source": [
    "import polars as pl"
   ]
  },
  {
   "cell_type": "code",
   "execution_count": 104,
   "metadata": {},
   "outputs": [
    {
     "data": {
      "text/plain": [
       "polars.config.Config"
      ]
     },
     "execution_count": 104,
     "metadata": {},
     "output_type": "execute_result"
    }
   ],
   "source": [
    "from polars import Config\n",
    "Config.set_fmt_str_lengths(100)"
   ]
  },
  {
   "cell_type": "markdown",
   "metadata": {},
   "source": [
    "#### Leyendo un archivo sin encabezado"
   ]
  },
  {
   "cell_type": "code",
   "execution_count": 105,
   "metadata": {},
   "outputs": [
    {
     "data": {
      "text/html": [
       "<div><style>\n",
       ".dataframe > thead > tr,\n",
       ".dataframe > tbody > tr {\n",
       "  text-align: right;\n",
       "  white-space: pre-wrap;\n",
       "}\n",
       "</style>\n",
       "<small>shape: (5, 4)</small><table border=\"1\" class=\"dataframe\"><thead><tr><th>Numero Ticket</th><th>Estado</th><th>Fecha Creacion</th><th>Clasificacion</th></tr><tr><td>str</td><td>str</td><td>date</td><td>i64</td></tr></thead><tbody><tr><td>&quot;WO0000004122687&quot;</td><td>&quot;Cerrado&quot;</td><td>2022-06-01</td><td>3</td></tr><tr><td>&quot;WO0000004122649&quot;</td><td>&quot;Cerrado&quot;</td><td>2022-06-01</td><td>3</td></tr><tr><td>&quot;WO0000004122502&quot;</td><td>&quot;Cerrado&quot;</td><td>2022-06-01</td><td>3</td></tr><tr><td>&quot;WO0000004122513&quot;</td><td>&quot;Cerrado&quot;</td><td>2022-06-01</td><td>3</td></tr><tr><td>&quot;WO0000004122741&quot;</td><td>&quot;Cerrado&quot;</td><td>2022-06-01</td><td>3</td></tr></tbody></table></div>"
      ],
      "text/plain": [
       "shape: (5, 4)\n",
       "┌─────────────────┬─────────┬────────────────┬───────────────┐\n",
       "│ Numero Ticket   ┆ Estado  ┆ Fecha Creacion ┆ Clasificacion │\n",
       "│ ---             ┆ ---     ┆ ---            ┆ ---           │\n",
       "│ str             ┆ str     ┆ date           ┆ i64           │\n",
       "╞═════════════════╪═════════╪════════════════╪═══════════════╡\n",
       "│ WO0000004122687 ┆ Cerrado ┆ 2022-06-01     ┆ 3             │\n",
       "│ WO0000004122649 ┆ Cerrado ┆ 2022-06-01     ┆ 3             │\n",
       "│ WO0000004122502 ┆ Cerrado ┆ 2022-06-01     ┆ 3             │\n",
       "│ WO0000004122513 ┆ Cerrado ┆ 2022-06-01     ┆ 3             │\n",
       "│ WO0000004122741 ┆ Cerrado ┆ 2022-06-01     ┆ 3             │\n",
       "└─────────────────┴─────────┴────────────────┴───────────────┘"
      ]
     },
     "execution_count": 105,
     "metadata": {},
     "output_type": "execute_result"
    }
   ],
   "source": [
    "se = pl.read_csv(\n",
    "    source='./Tickets/SinEncabezado.txt',\n",
    "    has_header= False,\n",
    "    separator= ';',\n",
    "    schema={\n",
    "        \"Numero Ticket\": pl.Utf8,\n",
    "        \"Estado\": pl.Utf8,\n",
    "        \"Fecha Creacion\" : pl.Date,\n",
    "        \"Clasificacion\" : pl.Int64\n",
    "    },\n",
    "    ignore_errors = True #ayuda a llevar a valores nulos, las columnas que no se pueden cambiar a un tipo de datos \n",
    ")\n",
    "\n",
    "se.head()"
   ]
  },
  {
   "cell_type": "code",
   "execution_count": 106,
   "metadata": {},
   "outputs": [
    {
     "data": {
      "text/html": [
       "<div><style>\n",
       ".dataframe > thead > tr,\n",
       ".dataframe > tbody > tr {\n",
       "  text-align: right;\n",
       "  white-space: pre-wrap;\n",
       "}\n",
       "</style>\n",
       "<small>shape: (5, 4)</small><table border=\"1\" class=\"dataframe\"><thead><tr><th>column_1</th><th>column_2</th><th>column_3</th><th>column_4</th></tr><tr><td>str</td><td>str</td><td>str</td><td>i64</td></tr></thead><tbody><tr><td>&quot;WO0000004122687&quot;</td><td>&quot;Cerrado&quot;</td><td>&quot;1/06/2022&quot;</td><td>3</td></tr><tr><td>&quot;WO0000004122649&quot;</td><td>&quot;Cerrado&quot;</td><td>&quot;1/06/2022&quot;</td><td>3</td></tr><tr><td>&quot;WO0000004122502&quot;</td><td>&quot;Cerrado&quot;</td><td>&quot;1/06/2022&quot;</td><td>3</td></tr><tr><td>&quot;WO0000004122513&quot;</td><td>&quot;Cerrado&quot;</td><td>&quot;1/06/2022&quot;</td><td>3</td></tr><tr><td>&quot;WO0000004122741&quot;</td><td>&quot;Cerrado&quot;</td><td>&quot;1/06/2022&quot;</td><td>3</td></tr></tbody></table></div>"
      ],
      "text/plain": [
       "shape: (5, 4)\n",
       "┌─────────────────┬──────────┬───────────┬──────────┐\n",
       "│ column_1        ┆ column_2 ┆ column_3  ┆ column_4 │\n",
       "│ ---             ┆ ---      ┆ ---       ┆ ---      │\n",
       "│ str             ┆ str      ┆ str       ┆ i64      │\n",
       "╞═════════════════╪══════════╪═══════════╪══════════╡\n",
       "│ WO0000004122687 ┆ Cerrado  ┆ 1/06/2022 ┆ 3        │\n",
       "│ WO0000004122649 ┆ Cerrado  ┆ 1/06/2022 ┆ 3        │\n",
       "│ WO0000004122502 ┆ Cerrado  ┆ 1/06/2022 ┆ 3        │\n",
       "│ WO0000004122513 ┆ Cerrado  ┆ 1/06/2022 ┆ 3        │\n",
       "│ WO0000004122741 ┆ Cerrado  ┆ 1/06/2022 ┆ 3        │\n",
       "└─────────────────┴──────────┴───────────┴──────────┘"
      ]
     },
     "execution_count": 106,
     "metadata": {},
     "output_type": "execute_result"
    }
   ],
   "source": [
    "se1 = pl.read_csv(\n",
    "    source='./Tickets/SinEncabezado.txt',\n",
    "    has_header= False,\n",
    "    separator= ';')\n",
    "\n",
    "se1.head()"
   ]
  },
  {
   "cell_type": "code",
   "execution_count": 107,
   "metadata": {},
   "outputs": [
    {
     "data": {
      "text/html": [
       "<div><style>\n",
       ".dataframe > thead > tr,\n",
       ".dataframe > tbody > tr {\n",
       "  text-align: right;\n",
       "  white-space: pre-wrap;\n",
       "}\n",
       "</style>\n",
       "<small>shape: (5, 4)</small><table border=\"1\" class=\"dataframe\"><thead><tr><th>Numero Ticket</th><th>Estado</th><th>Fecha Creacion</th><th>Clasificacion</th></tr><tr><td>str</td><td>str</td><td>str</td><td>i64</td></tr></thead><tbody><tr><td>&quot;WO0000004122687&quot;</td><td>&quot;Cerrado&quot;</td><td>&quot;1/06/2022&quot;</td><td>3</td></tr><tr><td>&quot;WO0000004122649&quot;</td><td>&quot;Cerrado&quot;</td><td>&quot;1/06/2022&quot;</td><td>3</td></tr><tr><td>&quot;WO0000004122502&quot;</td><td>&quot;Cerrado&quot;</td><td>&quot;1/06/2022&quot;</td><td>3</td></tr><tr><td>&quot;WO0000004122513&quot;</td><td>&quot;Cerrado&quot;</td><td>&quot;1/06/2022&quot;</td><td>3</td></tr><tr><td>&quot;WO0000004122741&quot;</td><td>&quot;Cerrado&quot;</td><td>&quot;1/06/2022&quot;</td><td>3</td></tr></tbody></table></div>"
      ],
      "text/plain": [
       "shape: (5, 4)\n",
       "┌─────────────────┬─────────┬────────────────┬───────────────┐\n",
       "│ Numero Ticket   ┆ Estado  ┆ Fecha Creacion ┆ Clasificacion │\n",
       "│ ---             ┆ ---     ┆ ---            ┆ ---           │\n",
       "│ str             ┆ str     ┆ str            ┆ i64           │\n",
       "╞═════════════════╪═════════╪════════════════╪═══════════════╡\n",
       "│ WO0000004122687 ┆ Cerrado ┆ 1/06/2022      ┆ 3             │\n",
       "│ WO0000004122649 ┆ Cerrado ┆ 1/06/2022      ┆ 3             │\n",
       "│ WO0000004122502 ┆ Cerrado ┆ 1/06/2022      ┆ 3             │\n",
       "│ WO0000004122513 ┆ Cerrado ┆ 1/06/2022      ┆ 3             │\n",
       "│ WO0000004122741 ┆ Cerrado ┆ 1/06/2022      ┆ 3             │\n",
       "└─────────────────┴─────────┴────────────────┴───────────────┘"
      ]
     },
     "execution_count": 107,
     "metadata": {},
     "output_type": "execute_result"
    }
   ],
   "source": [
    "se1 = se1.rename({\n",
    "    'column_1':'Numero Ticket','column_2':'Estado','column_3':'Fecha Creacion','column_4':'Clasificacion'\n",
    "})\n",
    "se1.head()"
   ]
  },
  {
   "cell_type": "code",
   "execution_count": 108,
   "metadata": {},
   "outputs": [
    {
     "data": {
      "text/html": [
       "<div><style>\n",
       ".dataframe > thead > tr,\n",
       ".dataframe > tbody > tr {\n",
       "  text-align: right;\n",
       "  white-space: pre-wrap;\n",
       "}\n",
       "</style>\n",
       "<small>shape: (5, 4)</small><table border=\"1\" class=\"dataframe\"><thead><tr><th>Numero Ticket</th><th>Estado</th><th>Fecha Creacion</th><th>Clasificacion</th></tr><tr><td>str</td><td>str</td><td>date</td><td>i64</td></tr></thead><tbody><tr><td>&quot;WO0000004122687&quot;</td><td>&quot;Cerrado&quot;</td><td>2022-06-01</td><td>3</td></tr><tr><td>&quot;WO0000004122649&quot;</td><td>&quot;Cerrado&quot;</td><td>2022-06-01</td><td>3</td></tr><tr><td>&quot;WO0000004122502&quot;</td><td>&quot;Cerrado&quot;</td><td>2022-06-01</td><td>3</td></tr><tr><td>&quot;WO0000004122513&quot;</td><td>&quot;Cerrado&quot;</td><td>2022-06-01</td><td>3</td></tr><tr><td>&quot;WO0000004122741&quot;</td><td>&quot;Cerrado&quot;</td><td>2022-06-01</td><td>3</td></tr></tbody></table></div>"
      ],
      "text/plain": [
       "shape: (5, 4)\n",
       "┌─────────────────┬─────────┬────────────────┬───────────────┐\n",
       "│ Numero Ticket   ┆ Estado  ┆ Fecha Creacion ┆ Clasificacion │\n",
       "│ ---             ┆ ---     ┆ ---            ┆ ---           │\n",
       "│ str             ┆ str     ┆ date           ┆ i64           │\n",
       "╞═════════════════╪═════════╪════════════════╪═══════════════╡\n",
       "│ WO0000004122687 ┆ Cerrado ┆ 2022-06-01     ┆ 3             │\n",
       "│ WO0000004122649 ┆ Cerrado ┆ 2022-06-01     ┆ 3             │\n",
       "│ WO0000004122502 ┆ Cerrado ┆ 2022-06-01     ┆ 3             │\n",
       "│ WO0000004122513 ┆ Cerrado ┆ 2022-06-01     ┆ 3             │\n",
       "│ WO0000004122741 ┆ Cerrado ┆ 2022-06-01     ┆ 3             │\n",
       "└─────────────────┴─────────┴────────────────┴───────────────┘"
      ]
     },
     "execution_count": 108,
     "metadata": {},
     "output_type": "execute_result"
    }
   ],
   "source": [
    "se1 = se1.with_columns(\n",
    "    pl.col('Fecha Creacion').str.to_date('%d/%m/%Y')\n",
    ")\n",
    "se1.head()"
   ]
  },
  {
   "cell_type": "markdown",
   "metadata": {},
   "source": [
    "#### Lectura de Tickets Historico"
   ]
  },
  {
   "cell_type": "code",
   "execution_count": 109,
   "metadata": {},
   "outputs": [
    {
     "data": {
      "text/html": [
       "<div><style>\n",
       ".dataframe > thead > tr,\n",
       ".dataframe > tbody > tr {\n",
       "  text-align: right;\n",
       "  white-space: pre-wrap;\n",
       "}\n",
       "</style>\n",
       "<small>shape: (5, 7)</small><table border=\"1\" class=\"dataframe\"><thead><tr><th>TicketID</th><th>Ubicacion</th><th>Service Desk</th><th>Estado</th><th>Fecha Creacion</th><th>Fecha Termino</th><th>Fecha Cierre</th></tr><tr><td>str</td><td>str</td><td>str</td><td>str</td><td>date</td><td>date</td><td>date</td></tr></thead><tbody><tr><td>&quot;WO0000004122687&quot;</td><td>&quot;AREQUIPA - 215000&quot;</td><td>&quot;Zona Norte&quot;</td><td>&quot;Cerrado&quot;</td><td>2022-06-01</td><td>2022-06-14</td><td>2022-06-14</td></tr><tr><td>&quot;WO0000004122649&quot;</td><td>&quot;METRO AV. WIESSE - 191106&quot;</td><td>&quot;Zona Centro&quot;</td><td>&quot;Cerrado&quot;</td><td>2022-06-01</td><td>2022-06-17</td><td>2022-06-17</td></tr><tr><td>&quot;WO0000004122502&quot;</td><td>&quot;NICOLAS AYLLON - 191027&quot;</td><td>&quot;Zona Centro&quot;</td><td>&quot;Cerrado&quot;</td><td>2022-06-01</td><td>2022-06-08</td><td>2022-06-08</td></tr><tr><td>&quot;WO0000004122513&quot;</td><td>&quot;JAUREGUI - 405005&quot;</td><td>&quot;Zona Norte&quot;</td><td>&quot;Cerrado&quot;</td><td>2022-06-01</td><td>2022-06-18</td><td>2022-06-18</td></tr><tr><td>&quot;WO0000004122741&quot;</td><td>&quot;CANTO GRANDE - 191096&quot;</td><td>&quot;Zona Centro&quot;</td><td>&quot;Cerrado&quot;</td><td>2022-06-01</td><td>2022-06-08</td><td>2022-06-08</td></tr></tbody></table></div>"
      ],
      "text/plain": [
       "shape: (5, 7)\n",
       "┌──────────────┬──────────────┬──────────────┬─────────┬──────────────┬──────────────┬─────────────┐\n",
       "│ TicketID     ┆ Ubicacion    ┆ Service Desk ┆ Estado  ┆ Fecha        ┆ Fecha        ┆ Fecha       │\n",
       "│ ---          ┆ ---          ┆ ---          ┆ ---     ┆ Creacion     ┆ Termino      ┆ Cierre      │\n",
       "│ str          ┆ str          ┆ str          ┆ str     ┆ ---          ┆ ---          ┆ ---         │\n",
       "│              ┆              ┆              ┆         ┆ date         ┆ date         ┆ date        │\n",
       "╞══════════════╪══════════════╪══════════════╪═════════╪══════════════╪══════════════╪═════════════╡\n",
       "│ WO0000004122 ┆ AREQUIPA -   ┆ Zona Norte   ┆ Cerrado ┆ 2022-06-01   ┆ 2022-06-14   ┆ 2022-06-14  │\n",
       "│ 687          ┆ 215000       ┆              ┆         ┆              ┆              ┆             │\n",
       "│ WO0000004122 ┆ METRO AV.    ┆ Zona Centro  ┆ Cerrado ┆ 2022-06-01   ┆ 2022-06-17   ┆ 2022-06-17  │\n",
       "│ 649          ┆ WIESSE -     ┆              ┆         ┆              ┆              ┆             │\n",
       "│              ┆ 191106       ┆              ┆         ┆              ┆              ┆             │\n",
       "│ WO0000004122 ┆ NICOLAS      ┆ Zona Centro  ┆ Cerrado ┆ 2022-06-01   ┆ 2022-06-08   ┆ 2022-06-08  │\n",
       "│ 502          ┆ AYLLON -     ┆              ┆         ┆              ┆              ┆             │\n",
       "│              ┆ 191027       ┆              ┆         ┆              ┆              ┆             │\n",
       "│ WO0000004122 ┆ JAUREGUI -   ┆ Zona Norte   ┆ Cerrado ┆ 2022-06-01   ┆ 2022-06-18   ┆ 2022-06-18  │\n",
       "│ 513          ┆ 405005       ┆              ┆         ┆              ┆              ┆             │\n",
       "│ WO0000004122 ┆ CANTO GRANDE ┆ Zona Centro  ┆ Cerrado ┆ 2022-06-01   ┆ 2022-06-08   ┆ 2022-06-08  │\n",
       "│ 741          ┆ - 191096     ┆              ┆         ┆              ┆              ┆             │\n",
       "└──────────────┴──────────────┴──────────────┴─────────┴──────────────┴──────────────┴─────────────┘"
      ]
     },
     "execution_count": 109,
     "metadata": {},
     "output_type": "execute_result"
    }
   ],
   "source": [
    "Historico = pl.read_csv(\n",
    "    source=\"./Tickets/Tickets Historico.txt\",\n",
    "    separator=\";\",\n",
    "    columns=[\"Numero Ticket\",\"Ubicacion\", \"Service Desk\",\"Estado\",\"Fecha Creacion\",\"Fecha Termino\", \"Fecha Cierre\"],\n",
    "    try_parse_dates= True,\n",
    "    ignore_errors= True\n",
    "\n",
    ").rename({\"Numero Ticket\":\"TicketID\"})\n",
    "\n",
    "Historico.head()"
   ]
  },
  {
   "cell_type": "markdown",
   "metadata": {},
   "source": [
    "#### Lectura de Ticket Actual"
   ]
  },
  {
   "cell_type": "code",
   "execution_count": 110,
   "metadata": {},
   "outputs": [],
   "source": [
    "Actuales = pl.read_csv(\n",
    "    source=\"./Tickets/Tickets Actual.csv\",\n",
    "    separator=\"|\",\n",
    "    columns=[\"Numero Ticket\",\"Ubicacion\", \"Service Desk\",\"Estado\",\"Fecha Creacion\",\"Fecha Termino\", \"Fecha Cierre\"],\n",
    ")"
   ]
  },
  {
   "cell_type": "code",
   "execution_count": 111,
   "metadata": {},
   "outputs": [
    {
     "data": {
      "text/html": [
       "<div><style>\n",
       ".dataframe > thead > tr,\n",
       ".dataframe > tbody > tr {\n",
       "  text-align: right;\n",
       "  white-space: pre-wrap;\n",
       "}\n",
       "</style>\n",
       "<small>shape: (5, 7)</small><table border=\"1\" class=\"dataframe\"><thead><tr><th>Numero Ticket</th><th>Ubicacion</th><th>Service Desk</th><th>Estado</th><th>Fecha Creacion</th><th>Fecha Termino</th><th>Fecha Cierre</th></tr><tr><td>str</td><td>str</td><td>str</td><td>str</td><td>str</td><td>str</td><td>str</td></tr></thead><tbody><tr><td>&quot;WO0000004853311&quot;</td><td>&quot;TUPAC AMARU - 191038&quot;</td><td>&quot;Zona Centro&quot;</td><td>&quot;Cerrado&quot;</td><td>&quot;2023-01-02&quot;</td><td>&quot;10/01/2023&quot;</td><td>&quot;13/01/2023&quot;</td></tr><tr><td>&quot;WO0000004852942&quot;</td><td>&quot;SAN JUAN DE LURIGANCHO - 191017&quot;</td><td>&quot;Zona Centro&quot;</td><td>&quot;Cerrado&quot;</td><td>&quot;2023-01-02&quot;</td><td>&quot;2/01/2023&quot;</td><td>&quot;5/01/2023&quot;</td></tr><tr><td>&quot;WO0000004852621&quot;</td><td>&quot;MARIANO MELGAR - 215014&quot;</td><td>&quot;Zona Norte&quot;</td><td>&quot;Cerrado&quot;</td><td>&quot;2023-01-02&quot;</td><td>&quot;6/01/2023&quot;</td><td>&quot;9/01/2023&quot;</td></tr><tr><td>&quot;SA0000004853328&quot;</td><td>&quot;ANDAHUAYLAS - 205000&quot;</td><td>&quot;Zona Norte&quot;</td><td>&quot;Cerrado&quot;</td><td>&quot;2023-01-02&quot;</td><td>&quot;7/01/2023&quot;</td><td>&quot;10/01/2023&quot;</td></tr><tr><td>&quot;SA0000004853160&quot;</td><td>&quot;COLLIQUE - 191065&quot;</td><td>&quot;Zona Centro&quot;</td><td>&quot;Cerrado&quot;</td><td>&quot;2023-01-02&quot;</td><td>&quot;4/01/2023&quot;</td><td>&quot;7/01/2023&quot;</td></tr></tbody></table></div>"
      ],
      "text/plain": [
       "shape: (5, 7)\n",
       "┌──────────────┬──────────────┬──────────────┬─────────┬──────────────┬──────────────┬─────────────┐\n",
       "│ Numero       ┆ Ubicacion    ┆ Service Desk ┆ Estado  ┆ Fecha        ┆ Fecha        ┆ Fecha       │\n",
       "│ Ticket       ┆ ---          ┆ ---          ┆ ---     ┆ Creacion     ┆ Termino      ┆ Cierre      │\n",
       "│ ---          ┆ str          ┆ str          ┆ str     ┆ ---          ┆ ---          ┆ ---         │\n",
       "│ str          ┆              ┆              ┆         ┆ str          ┆ str          ┆ str         │\n",
       "╞══════════════╪══════════════╪══════════════╪═════════╪══════════════╪══════════════╪═════════════╡\n",
       "│ WO0000004853 ┆ TUPAC AMARU  ┆ Zona Centro  ┆ Cerrado ┆ 2023-01-02   ┆ 10/01/2023   ┆ 13/01/2023  │\n",
       "│ 311          ┆ - 191038     ┆              ┆         ┆              ┆              ┆             │\n",
       "│ WO0000004852 ┆ SAN JUAN DE  ┆ Zona Centro  ┆ Cerrado ┆ 2023-01-02   ┆ 2/01/2023    ┆ 5/01/2023   │\n",
       "│ 942          ┆ LURIGANCHO - ┆              ┆         ┆              ┆              ┆             │\n",
       "│              ┆ 191017       ┆              ┆         ┆              ┆              ┆             │\n",
       "│ WO0000004852 ┆ MARIANO      ┆ Zona Norte   ┆ Cerrado ┆ 2023-01-02   ┆ 6/01/2023    ┆ 9/01/2023   │\n",
       "│ 621          ┆ MELGAR -     ┆              ┆         ┆              ┆              ┆             │\n",
       "│              ┆ 215014       ┆              ┆         ┆              ┆              ┆             │\n",
       "│ SA0000004853 ┆ ANDAHUAYLAS  ┆ Zona Norte   ┆ Cerrado ┆ 2023-01-02   ┆ 7/01/2023    ┆ 10/01/2023  │\n",
       "│ 328          ┆ - 205000     ┆              ┆         ┆              ┆              ┆             │\n",
       "│ SA0000004853 ┆ COLLIQUE -   ┆ Zona Centro  ┆ Cerrado ┆ 2023-01-02   ┆ 4/01/2023    ┆ 7/01/2023   │\n",
       "│ 160          ┆ 191065       ┆              ┆         ┆              ┆              ┆             │\n",
       "└──────────────┴──────────────┴──────────────┴─────────┴──────────────┴──────────────┴─────────────┘"
      ]
     },
     "execution_count": 111,
     "metadata": {},
     "output_type": "execute_result"
    }
   ],
   "source": [
    "Actuales.head()"
   ]
  },
  {
   "cell_type": "markdown",
   "metadata": {},
   "source": [
    "#### Convertir a tipo fecha las columnas fecha creacion, fecha termino y fecha cierre\n",
    "renombrar la columna Numero de Ticket como TicketID"
   ]
  },
  {
   "cell_type": "code",
   "execution_count": 112,
   "metadata": {},
   "outputs": [],
   "source": [
    "Actuales = Actuales.with_columns(\n",
    "    pl.col('Fecha Creacion').str.to_date('%Y-%m-%d'),\n",
    "    pl.col('Fecha Termino').str.to_date('%d/%m/%Y'),\n",
    "    pl.col('Fecha Cierre').str.to_date('%d/%m/%Y')\n",
    ").rename({'Numero Ticket':\"TicketID\"})"
   ]
  },
  {
   "cell_type": "code",
   "execution_count": 113,
   "metadata": {},
   "outputs": [],
   "source": [
    "Actuales = Actuales.filter(\n",
    "    pl.col('TicketID').str.starts_with(\"WO\")\n",
    ")"
   ]
  },
  {
   "cell_type": "markdown",
   "metadata": {},
   "source": [
    "#### Uniendo 2 Dataframes"
   ]
  },
  {
   "cell_type": "code",
   "execution_count": 114,
   "metadata": {},
   "outputs": [
    {
     "data": {
      "text/html": [
       "<div><style>\n",
       ".dataframe > thead > tr,\n",
       ".dataframe > tbody > tr {\n",
       "  text-align: right;\n",
       "  white-space: pre-wrap;\n",
       "}\n",
       "</style>\n",
       "<small>shape: (2, 7)</small><table border=\"1\" class=\"dataframe\"><thead><tr><th>TicketID</th><th>Ubicacion</th><th>Service Desk</th><th>Estado</th><th>Fecha Creacion</th><th>Fecha Termino</th><th>Fecha Cierre</th></tr><tr><td>str</td><td>str</td><td>str</td><td>str</td><td>date</td><td>date</td><td>date</td></tr></thead><tbody><tr><td>&quot;WO0000004122687&quot;</td><td>&quot;AREQUIPA - 215000&quot;</td><td>&quot;Zona Norte&quot;</td><td>&quot;Cerrado&quot;</td><td>2022-06-01</td><td>2022-06-14</td><td>2022-06-14</td></tr><tr><td>&quot;WO0000004122649&quot;</td><td>&quot;METRO AV. WIESSE - 191106&quot;</td><td>&quot;Zona Centro&quot;</td><td>&quot;Cerrado&quot;</td><td>2022-06-01</td><td>2022-06-17</td><td>2022-06-17</td></tr></tbody></table></div>"
      ],
      "text/plain": [
       "shape: (2, 7)\n",
       "┌──────────────┬──────────────┬──────────────┬─────────┬──────────────┬──────────────┬─────────────┐\n",
       "│ TicketID     ┆ Ubicacion    ┆ Service Desk ┆ Estado  ┆ Fecha        ┆ Fecha        ┆ Fecha       │\n",
       "│ ---          ┆ ---          ┆ ---          ┆ ---     ┆ Creacion     ┆ Termino      ┆ Cierre      │\n",
       "│ str          ┆ str          ┆ str          ┆ str     ┆ ---          ┆ ---          ┆ ---         │\n",
       "│              ┆              ┆              ┆         ┆ date         ┆ date         ┆ date        │\n",
       "╞══════════════╪══════════════╪══════════════╪═════════╪══════════════╪══════════════╪═════════════╡\n",
       "│ WO0000004122 ┆ AREQUIPA -   ┆ Zona Norte   ┆ Cerrado ┆ 2022-06-01   ┆ 2022-06-14   ┆ 2022-06-14  │\n",
       "│ 687          ┆ 215000       ┆              ┆         ┆              ┆              ┆             │\n",
       "│ WO0000004122 ┆ METRO AV.    ┆ Zona Centro  ┆ Cerrado ┆ 2022-06-01   ┆ 2022-06-17   ┆ 2022-06-17  │\n",
       "│ 649          ┆ WIESSE -     ┆              ┆         ┆              ┆              ┆             │\n",
       "│              ┆ 191106       ┆              ┆         ┆              ┆              ┆             │\n",
       "└──────────────┴──────────────┴──────────────┴─────────┴──────────────┴──────────────┴─────────────┘"
      ]
     },
     "execution_count": 114,
     "metadata": {},
     "output_type": "execute_result"
    }
   ],
   "source": [
    "Historico.head(2)"
   ]
  },
  {
   "cell_type": "code",
   "execution_count": 115,
   "metadata": {},
   "outputs": [
    {
     "data": {
      "text/html": [
       "<div><style>\n",
       ".dataframe > thead > tr,\n",
       ".dataframe > tbody > tr {\n",
       "  text-align: right;\n",
       "  white-space: pre-wrap;\n",
       "}\n",
       "</style>\n",
       "<small>shape: (2, 7)</small><table border=\"1\" class=\"dataframe\"><thead><tr><th>TicketID</th><th>Ubicacion</th><th>Service Desk</th><th>Estado</th><th>Fecha Creacion</th><th>Fecha Termino</th><th>Fecha Cierre</th></tr><tr><td>str</td><td>str</td><td>str</td><td>str</td><td>date</td><td>date</td><td>date</td></tr></thead><tbody><tr><td>&quot;WO0000004853311&quot;</td><td>&quot;TUPAC AMARU - 191038&quot;</td><td>&quot;Zona Centro&quot;</td><td>&quot;Cerrado&quot;</td><td>2023-01-02</td><td>2023-01-10</td><td>2023-01-13</td></tr><tr><td>&quot;WO0000004852942&quot;</td><td>&quot;SAN JUAN DE LURIGANCHO - 191017&quot;</td><td>&quot;Zona Centro&quot;</td><td>&quot;Cerrado&quot;</td><td>2023-01-02</td><td>2023-01-02</td><td>2023-01-05</td></tr></tbody></table></div>"
      ],
      "text/plain": [
       "shape: (2, 7)\n",
       "┌──────────────┬──────────────┬──────────────┬─────────┬──────────────┬──────────────┬─────────────┐\n",
       "│ TicketID     ┆ Ubicacion    ┆ Service Desk ┆ Estado  ┆ Fecha        ┆ Fecha        ┆ Fecha       │\n",
       "│ ---          ┆ ---          ┆ ---          ┆ ---     ┆ Creacion     ┆ Termino      ┆ Cierre      │\n",
       "│ str          ┆ str          ┆ str          ┆ str     ┆ ---          ┆ ---          ┆ ---         │\n",
       "│              ┆              ┆              ┆         ┆ date         ┆ date         ┆ date        │\n",
       "╞══════════════╪══════════════╪══════════════╪═════════╪══════════════╪══════════════╪═════════════╡\n",
       "│ WO0000004853 ┆ TUPAC AMARU  ┆ Zona Centro  ┆ Cerrado ┆ 2023-01-02   ┆ 2023-01-10   ┆ 2023-01-13  │\n",
       "│ 311          ┆ - 191038     ┆              ┆         ┆              ┆              ┆             │\n",
       "│ WO0000004852 ┆ SAN JUAN DE  ┆ Zona Centro  ┆ Cerrado ┆ 2023-01-02   ┆ 2023-01-02   ┆ 2023-01-05  │\n",
       "│ 942          ┆ LURIGANCHO - ┆              ┆         ┆              ┆              ┆             │\n",
       "│              ┆ 191017       ┆              ┆         ┆              ┆              ┆             │\n",
       "└──────────────┴──────────────┴──────────────┴─────────┴──────────────┴──────────────┴─────────────┘"
      ]
     },
     "execution_count": 115,
     "metadata": {},
     "output_type": "execute_result"
    }
   ],
   "source": [
    "Actuales.head(2)"
   ]
  },
  {
   "cell_type": "code",
   "execution_count": 116,
   "metadata": {},
   "outputs": [
    {
     "data": {
      "text/html": [
       "<div><style>\n",
       ".dataframe > thead > tr,\n",
       ".dataframe > tbody > tr {\n",
       "  text-align: right;\n",
       "  white-space: pre-wrap;\n",
       "}\n",
       "</style>\n",
       "<small>shape: (5, 7)</small><table border=\"1\" class=\"dataframe\"><thead><tr><th>TicketID</th><th>Ubicacion</th><th>Service Desk</th><th>Estado</th><th>Fecha Creacion</th><th>Fecha Termino</th><th>Fecha Cierre</th></tr><tr><td>str</td><td>str</td><td>str</td><td>str</td><td>date</td><td>date</td><td>date</td></tr></thead><tbody><tr><td>&quot;WO0000004122687&quot;</td><td>&quot;AREQUIPA - 215000&quot;</td><td>&quot;Zona Norte&quot;</td><td>&quot;Cerrado&quot;</td><td>2022-06-01</td><td>2022-06-14</td><td>2022-06-14</td></tr><tr><td>&quot;WO0000004122649&quot;</td><td>&quot;METRO AV. WIESSE - 191106&quot;</td><td>&quot;Zona Centro&quot;</td><td>&quot;Cerrado&quot;</td><td>2022-06-01</td><td>2022-06-17</td><td>2022-06-17</td></tr><tr><td>&quot;WO0000004122502&quot;</td><td>&quot;NICOLAS AYLLON - 191027&quot;</td><td>&quot;Zona Centro&quot;</td><td>&quot;Cerrado&quot;</td><td>2022-06-01</td><td>2022-06-08</td><td>2022-06-08</td></tr><tr><td>&quot;WO0000004122513&quot;</td><td>&quot;JAUREGUI - 405005&quot;</td><td>&quot;Zona Norte&quot;</td><td>&quot;Cerrado&quot;</td><td>2022-06-01</td><td>2022-06-18</td><td>2022-06-18</td></tr><tr><td>&quot;WO0000004122741&quot;</td><td>&quot;CANTO GRANDE - 191096&quot;</td><td>&quot;Zona Centro&quot;</td><td>&quot;Cerrado&quot;</td><td>2022-06-01</td><td>2022-06-08</td><td>2022-06-08</td></tr></tbody></table></div>"
      ],
      "text/plain": [
       "shape: (5, 7)\n",
       "┌──────────────┬──────────────┬──────────────┬─────────┬──────────────┬──────────────┬─────────────┐\n",
       "│ TicketID     ┆ Ubicacion    ┆ Service Desk ┆ Estado  ┆ Fecha        ┆ Fecha        ┆ Fecha       │\n",
       "│ ---          ┆ ---          ┆ ---          ┆ ---     ┆ Creacion     ┆ Termino      ┆ Cierre      │\n",
       "│ str          ┆ str          ┆ str          ┆ str     ┆ ---          ┆ ---          ┆ ---         │\n",
       "│              ┆              ┆              ┆         ┆ date         ┆ date         ┆ date        │\n",
       "╞══════════════╪══════════════╪══════════════╪═════════╪══════════════╪══════════════╪═════════════╡\n",
       "│ WO0000004122 ┆ AREQUIPA -   ┆ Zona Norte   ┆ Cerrado ┆ 2022-06-01   ┆ 2022-06-14   ┆ 2022-06-14  │\n",
       "│ 687          ┆ 215000       ┆              ┆         ┆              ┆              ┆             │\n",
       "│ WO0000004122 ┆ METRO AV.    ┆ Zona Centro  ┆ Cerrado ┆ 2022-06-01   ┆ 2022-06-17   ┆ 2022-06-17  │\n",
       "│ 649          ┆ WIESSE -     ┆              ┆         ┆              ┆              ┆             │\n",
       "│              ┆ 191106       ┆              ┆         ┆              ┆              ┆             │\n",
       "│ WO0000004122 ┆ NICOLAS      ┆ Zona Centro  ┆ Cerrado ┆ 2022-06-01   ┆ 2022-06-08   ┆ 2022-06-08  │\n",
       "│ 502          ┆ AYLLON -     ┆              ┆         ┆              ┆              ┆             │\n",
       "│              ┆ 191027       ┆              ┆         ┆              ┆              ┆             │\n",
       "│ WO0000004122 ┆ JAUREGUI -   ┆ Zona Norte   ┆ Cerrado ┆ 2022-06-01   ┆ 2022-06-18   ┆ 2022-06-18  │\n",
       "│ 513          ┆ 405005       ┆              ┆         ┆              ┆              ┆             │\n",
       "│ WO0000004122 ┆ CANTO GRANDE ┆ Zona Centro  ┆ Cerrado ┆ 2022-06-01   ┆ 2022-06-08   ┆ 2022-06-08  │\n",
       "│ 741          ┆ - 191096     ┆              ┆         ┆              ┆              ┆             │\n",
       "└──────────────┴──────────────┴──────────────┴─────────┴──────────────┴──────────────┴─────────────┘"
      ]
     },
     "execution_count": 116,
     "metadata": {},
     "output_type": "execute_result"
    }
   ],
   "source": [
    "Tickets = pl.concat([Historico, Actuales], how=\"vertical\")\n",
    "Tickets.head()"
   ]
  },
  {
   "cell_type": "code",
   "execution_count": 117,
   "metadata": {},
   "outputs": [],
   "source": [
    "Tickets = Tickets.filter(\n",
    "    pl.col('TicketID').str.starts_with(\"WO\")\n",
    ")"
   ]
  },
  {
   "cell_type": "code",
   "execution_count": 118,
   "metadata": {},
   "outputs": [],
   "source": [
    "test = pl.DataFrame({\n",
    "    \"Etiqueta\":\"Historico\"\n",
    "})"
   ]
  },
  {
   "cell_type": "code",
   "execution_count": 119,
   "metadata": {},
   "outputs": [
    {
     "data": {
      "text/html": [
       "<div><style>\n",
       ".dataframe > thead > tr,\n",
       ".dataframe > tbody > tr {\n",
       "  text-align: right;\n",
       "  white-space: pre-wrap;\n",
       "}\n",
       "</style>\n",
       "<small>shape: (1, 1)</small><table border=\"1\" class=\"dataframe\"><thead><tr><th>Etiqueta</th></tr><tr><td>str</td></tr></thead><tbody><tr><td>&quot;Historico&quot;</td></tr></tbody></table></div>"
      ],
      "text/plain": [
       "shape: (1, 1)\n",
       "┌───────────┐\n",
       "│ Etiqueta  │\n",
       "│ ---       │\n",
       "│ str       │\n",
       "╞═══════════╡\n",
       "│ Historico │\n",
       "└───────────┘"
      ]
     },
     "execution_count": 119,
     "metadata": {},
     "output_type": "execute_result"
    }
   ],
   "source": [
    "test"
   ]
  },
  {
   "cell_type": "markdown",
   "metadata": {},
   "source": [
    "#### Valores Duplicados"
   ]
  },
  {
   "cell_type": "code",
   "execution_count": 120,
   "metadata": {},
   "outputs": [
    {
     "data": {
      "text/plain": [
       "(22223, 7)"
      ]
     },
     "execution_count": 120,
     "metadata": {},
     "output_type": "execute_result"
    }
   ],
   "source": [
    "Tickets.shape"
   ]
  },
  {
   "cell_type": "code",
   "execution_count": 121,
   "metadata": {},
   "outputs": [
    {
     "data": {
      "text/plain": [
       "(22210, 7)"
      ]
     },
     "execution_count": 121,
     "metadata": {},
     "output_type": "execute_result"
    }
   ],
   "source": [
    "Tickets.unique(subset='TicketID').shape"
   ]
  },
  {
   "cell_type": "code",
   "execution_count": 122,
   "metadata": {},
   "outputs": [
    {
     "data": {
      "text/html": [
       "<div><style>\n",
       ".dataframe > thead > tr,\n",
       ".dataframe > tbody > tr {\n",
       "  text-align: right;\n",
       "  white-space: pre-wrap;\n",
       "}\n",
       "</style>\n",
       "<small>shape: (26, 7)</small><table border=\"1\" class=\"dataframe\"><thead><tr><th>TicketID</th><th>Ubicacion</th><th>Service Desk</th><th>Estado</th><th>Fecha Creacion</th><th>Fecha Termino</th><th>Fecha Cierre</th></tr><tr><td>str</td><td>str</td><td>str</td><td>str</td><td>date</td><td>date</td><td>date</td></tr></thead><tbody><tr><td>&quot;WO0000004848619&quot;</td><td>&quot;ILO - 385000&quot;</td><td>&quot;Zona Norte&quot;</td><td>&quot;Cerrado&quot;</td><td>2022-12-31</td><td>2023-01-09</td><td>2023-01-12</td></tr><tr><td>&quot;WO0000004848619&quot;</td><td>&quot;ILO - 385000&quot;</td><td>&quot;Zona Norte&quot;</td><td>&quot;Cerrado&quot;</td><td>2022-12-31</td><td>2023-01-09</td><td>2023-01-12</td></tr><tr><td>&quot;WO0000004848638&quot;</td><td>&quot;VILLA SOL - 191059&quot;</td><td>&quot;Zona Centro&quot;</td><td>&quot;Cerrado&quot;</td><td>2022-12-31</td><td>2022-12-31</td><td>2023-01-03</td></tr><tr><td>&quot;WO0000004848638&quot;</td><td>&quot;VILLA SOL - 191059&quot;</td><td>&quot;Zona Centro&quot;</td><td>&quot;Cerrado&quot;</td><td>2022-12-31</td><td>2022-12-31</td><td>2023-01-03</td></tr><tr><td>&quot;WO0000004848654&quot;</td><td>&quot;MERCADO DE FRUTAS - 191064&quot;</td><td>&quot;Zona Centro&quot;</td><td>&quot;Cerrado&quot;</td><td>2022-12-31</td><td>2023-01-13</td><td>2023-01-16</td></tr><tr><td>&hellip;</td><td>&hellip;</td><td>&hellip;</td><td>&hellip;</td><td>&hellip;</td><td>&hellip;</td><td>&hellip;</td></tr><tr><td>&quot;WO0000004849721&quot;</td><td>&quot;LUREN - 380004&quot;</td><td>&quot;Zona Sur&quot;</td><td>&quot;Cerrado&quot;</td><td>2022-12-31</td><td>2023-01-02</td><td>2023-01-05</td></tr><tr><td>&quot;WO0000004849726&quot;</td><td>&quot;LUREN - 380004&quot;</td><td>&quot;Zona Sur&quot;</td><td>&quot;Cerrado&quot;</td><td>2022-12-31</td><td>2023-01-02</td><td>2023-01-05</td></tr><tr><td>&quot;WO0000004849726&quot;</td><td>&quot;LUREN - 380004&quot;</td><td>&quot;Zona Sur&quot;</td><td>&quot;Cerrado&quot;</td><td>2022-12-31</td><td>2023-01-02</td><td>2023-01-05</td></tr><tr><td>&quot;WO0000004849732&quot;</td><td>&quot;EL PINO - 191087&quot;</td><td>&quot;Zona Centro&quot;</td><td>&quot;Cerrado&quot;</td><td>2022-12-31</td><td>2023-01-06</td><td>2023-01-09</td></tr><tr><td>&quot;WO0000004849732&quot;</td><td>&quot;EL PINO - 191087&quot;</td><td>&quot;Zona Centro&quot;</td><td>&quot;Cerrado&quot;</td><td>2022-12-31</td><td>2023-01-06</td><td>2023-01-09</td></tr></tbody></table></div>"
      ],
      "text/plain": [
       "shape: (26, 7)\n",
       "┌──────────────┬──────────────┬──────────────┬─────────┬──────────────┬──────────────┬─────────────┐\n",
       "│ TicketID     ┆ Ubicacion    ┆ Service Desk ┆ Estado  ┆ Fecha        ┆ Fecha        ┆ Fecha       │\n",
       "│ ---          ┆ ---          ┆ ---          ┆ ---     ┆ Creacion     ┆ Termino      ┆ Cierre      │\n",
       "│ str          ┆ str          ┆ str          ┆ str     ┆ ---          ┆ ---          ┆ ---         │\n",
       "│              ┆              ┆              ┆         ┆ date         ┆ date         ┆ date        │\n",
       "╞══════════════╪══════════════╪══════════════╪═════════╪══════════════╪══════════════╪═════════════╡\n",
       "│ WO0000004848 ┆ ILO - 385000 ┆ Zona Norte   ┆ Cerrado ┆ 2022-12-31   ┆ 2023-01-09   ┆ 2023-01-12  │\n",
       "│ 619          ┆              ┆              ┆         ┆              ┆              ┆             │\n",
       "│ WO0000004848 ┆ ILO - 385000 ┆ Zona Norte   ┆ Cerrado ┆ 2022-12-31   ┆ 2023-01-09   ┆ 2023-01-12  │\n",
       "│ 619          ┆              ┆              ┆         ┆              ┆              ┆             │\n",
       "│ WO0000004848 ┆ VILLA SOL -  ┆ Zona Centro  ┆ Cerrado ┆ 2022-12-31   ┆ 2022-12-31   ┆ 2023-01-03  │\n",
       "│ 638          ┆ 191059       ┆              ┆         ┆              ┆              ┆             │\n",
       "│ WO0000004848 ┆ VILLA SOL -  ┆ Zona Centro  ┆ Cerrado ┆ 2022-12-31   ┆ 2022-12-31   ┆ 2023-01-03  │\n",
       "│ 638          ┆ 191059       ┆              ┆         ┆              ┆              ┆             │\n",
       "│ WO0000004848 ┆ MERCADO DE   ┆ Zona Centro  ┆ Cerrado ┆ 2022-12-31   ┆ 2023-01-13   ┆ 2023-01-16  │\n",
       "│ 654          ┆ FRUTAS -     ┆              ┆         ┆              ┆              ┆             │\n",
       "│              ┆ 191064       ┆              ┆         ┆              ┆              ┆             │\n",
       "│ …            ┆ …            ┆ …            ┆ …       ┆ …            ┆ …            ┆ …           │\n",
       "│ WO0000004849 ┆ LUREN -      ┆ Zona Sur     ┆ Cerrado ┆ 2022-12-31   ┆ 2023-01-02   ┆ 2023-01-05  │\n",
       "│ 721          ┆ 380004       ┆              ┆         ┆              ┆              ┆             │\n",
       "│ WO0000004849 ┆ LUREN -      ┆ Zona Sur     ┆ Cerrado ┆ 2022-12-31   ┆ 2023-01-02   ┆ 2023-01-05  │\n",
       "│ 726          ┆ 380004       ┆              ┆         ┆              ┆              ┆             │\n",
       "│ WO0000004849 ┆ LUREN -      ┆ Zona Sur     ┆ Cerrado ┆ 2022-12-31   ┆ 2023-01-02   ┆ 2023-01-05  │\n",
       "│ 726          ┆ 380004       ┆              ┆         ┆              ┆              ┆             │\n",
       "│ WO0000004849 ┆ EL PINO -    ┆ Zona Centro  ┆ Cerrado ┆ 2022-12-31   ┆ 2023-01-06   ┆ 2023-01-09  │\n",
       "│ 732          ┆ 191087       ┆              ┆         ┆              ┆              ┆             │\n",
       "│ WO0000004849 ┆ EL PINO -    ┆ Zona Centro  ┆ Cerrado ┆ 2022-12-31   ┆ 2023-01-06   ┆ 2023-01-09  │\n",
       "│ 732          ┆ 191087       ┆              ┆         ┆              ┆              ┆             │\n",
       "└──────────────┴──────────────┴──────────────┴─────────┴──────────────┴──────────────┴─────────────┘"
      ]
     },
     "execution_count": 122,
     "metadata": {},
     "output_type": "execute_result"
    }
   ],
   "source": [
    "Tickets.filter(\n",
    "    pl.col(\"TicketID\").is_duplicated()\n",
    ").sort(\n",
    "    by =\"TicketID\"\n",
    ")"
   ]
  },
  {
   "cell_type": "code",
   "execution_count": 123,
   "metadata": {},
   "outputs": [],
   "source": [
    "Tickets = Tickets.sort(\n",
    "    by = [\"TicketID\",\"Fecha Creacion\"]\n",
    ").unique(\n",
    "    subset=\"TicketID\",\n",
    "    keep=\"last\",\n",
    "    maintain_order=True\n",
    ")"
   ]
  },
  {
   "cell_type": "code",
   "execution_count": 124,
   "metadata": {},
   "outputs": [
    {
     "data": {
      "text/html": [
       "<div><style>\n",
       ".dataframe > thead > tr,\n",
       ".dataframe > tbody > tr {\n",
       "  text-align: right;\n",
       "  white-space: pre-wrap;\n",
       "}\n",
       "</style>\n",
       "<small>shape: (5, 7)</small><table border=\"1\" class=\"dataframe\"><thead><tr><th>TicketID</th><th>Ubicacion</th><th>Service Desk</th><th>Estado</th><th>Fecha Creacion</th><th>Fecha Termino</th><th>Fecha Cierre</th></tr><tr><td>str</td><td>str</td><td>str</td><td>str</td><td>date</td><td>date</td><td>date</td></tr></thead><tbody><tr><td>&quot;WO0000004122302&quot;</td><td>&quot;IMPERIAL - 255001&quot;</td><td>&quot;Zona Norte&quot;</td><td>&quot;Cerrado&quot;</td><td>2022-06-01</td><td>2022-06-10</td><td>2022-06-10</td></tr><tr><td>&quot;WO0000004122303&quot;</td><td>&quot;IMPERIAL - 255001&quot;</td><td>&quot;Zona Norte&quot;</td><td>&quot;Cerrado&quot;</td><td>2022-06-01</td><td>2022-06-17</td><td>2022-06-17</td></tr><tr><td>&quot;WO0000004122353&quot;</td><td>&quot;PLAZA UNION - 191062&quot;</td><td>&quot;Zona Centro&quot;</td><td>&quot;Cerrado&quot;</td><td>2022-06-01</td><td>2022-06-05</td><td>2022-06-05</td></tr><tr><td>&quot;WO0000004122360&quot;</td><td>&quot;AREQUIPA - 215000&quot;</td><td>&quot;Zona Norte&quot;</td><td>&quot;Cerrado&quot;</td><td>2022-06-01</td><td>2022-06-13</td><td>2022-06-13</td></tr><tr><td>&quot;WO0000004122387&quot;</td><td>&quot;PLAZA LIMA NORTE - 191058&quot;</td><td>&quot;Zona Centro&quot;</td><td>&quot;Rechazado&quot;</td><td>2022-06-01</td><td>2022-06-06</td><td>null</td></tr></tbody></table></div>"
      ],
      "text/plain": [
       "shape: (5, 7)\n",
       "┌──────────────┬──────────────┬──────────────┬───────────┬─────────────┬─────────────┬─────────────┐\n",
       "│ TicketID     ┆ Ubicacion    ┆ Service Desk ┆ Estado    ┆ Fecha       ┆ Fecha       ┆ Fecha       │\n",
       "│ ---          ┆ ---          ┆ ---          ┆ ---       ┆ Creacion    ┆ Termino     ┆ Cierre      │\n",
       "│ str          ┆ str          ┆ str          ┆ str       ┆ ---         ┆ ---         ┆ ---         │\n",
       "│              ┆              ┆              ┆           ┆ date        ┆ date        ┆ date        │\n",
       "╞══════════════╪══════════════╪══════════════╪═══════════╪═════════════╪═════════════╪═════════════╡\n",
       "│ WO0000004122 ┆ IMPERIAL -   ┆ Zona Norte   ┆ Cerrado   ┆ 2022-06-01  ┆ 2022-06-10  ┆ 2022-06-10  │\n",
       "│ 302          ┆ 255001       ┆              ┆           ┆             ┆             ┆             │\n",
       "│ WO0000004122 ┆ IMPERIAL -   ┆ Zona Norte   ┆ Cerrado   ┆ 2022-06-01  ┆ 2022-06-17  ┆ 2022-06-17  │\n",
       "│ 303          ┆ 255001       ┆              ┆           ┆             ┆             ┆             │\n",
       "│ WO0000004122 ┆ PLAZA UNION  ┆ Zona Centro  ┆ Cerrado   ┆ 2022-06-01  ┆ 2022-06-05  ┆ 2022-06-05  │\n",
       "│ 353          ┆ - 191062     ┆              ┆           ┆             ┆             ┆             │\n",
       "│ WO0000004122 ┆ AREQUIPA -   ┆ Zona Norte   ┆ Cerrado   ┆ 2022-06-01  ┆ 2022-06-13  ┆ 2022-06-13  │\n",
       "│ 360          ┆ 215000       ┆              ┆           ┆             ┆             ┆             │\n",
       "│ WO0000004122 ┆ PLAZA LIMA   ┆ Zona Centro  ┆ Rechazado ┆ 2022-06-01  ┆ 2022-06-06  ┆ null        │\n",
       "│ 387          ┆ NORTE -      ┆              ┆           ┆             ┆             ┆             │\n",
       "│              ┆ 191058       ┆              ┆           ┆             ┆             ┆             │\n",
       "└──────────────┴──────────────┴──────────────┴───────────┴─────────────┴─────────────┴─────────────┘"
      ]
     },
     "execution_count": 124,
     "metadata": {},
     "output_type": "execute_result"
    }
   ],
   "source": [
    "Tickets.head()"
   ]
  },
  {
   "cell_type": "code",
   "execution_count": 125,
   "metadata": {},
   "outputs": [],
   "source": [
    "#Separando  la columna Ubicacion\n",
    "Tickets = Tickets.with_columns(\n",
    "    pl.col(\"Ubicacion\").str.split_exact(' - ', 1)\n",
    "    .struct.rename_fields([\"Agencia\",\"AgenciaID\"])\n",
    "    .alias('Ubicacion')\n",
    ").unnest('Ubicacion').cast({\"AgenciaID\": pl.Int64})"
   ]
  },
  {
   "cell_type": "code",
   "execution_count": 126,
   "metadata": {},
   "outputs": [
    {
     "data": {
      "text/html": [
       "<div><style>\n",
       ".dataframe > thead > tr,\n",
       ".dataframe > tbody > tr {\n",
       "  text-align: right;\n",
       "  white-space: pre-wrap;\n",
       "}\n",
       "</style>\n",
       "<small>shape: (5, 8)</small><table border=\"1\" class=\"dataframe\"><thead><tr><th>TicketID</th><th>Agencia</th><th>AgenciaID</th><th>Service Desk</th><th>Estado</th><th>Fecha Creacion</th><th>Fecha Termino</th><th>Fecha Cierre</th></tr><tr><td>str</td><td>str</td><td>i64</td><td>str</td><td>str</td><td>date</td><td>date</td><td>date</td></tr></thead><tbody><tr><td>&quot;WO0000004122302&quot;</td><td>&quot;IMPERIAL&quot;</td><td>255001</td><td>&quot;Zona Norte&quot;</td><td>&quot;Cerrado&quot;</td><td>2022-06-01</td><td>2022-06-10</td><td>2022-06-10</td></tr><tr><td>&quot;WO0000004122303&quot;</td><td>&quot;IMPERIAL&quot;</td><td>255001</td><td>&quot;Zona Norte&quot;</td><td>&quot;Cerrado&quot;</td><td>2022-06-01</td><td>2022-06-17</td><td>2022-06-17</td></tr><tr><td>&quot;WO0000004122353&quot;</td><td>&quot;PLAZA UNION&quot;</td><td>191062</td><td>&quot;Zona Centro&quot;</td><td>&quot;Cerrado&quot;</td><td>2022-06-01</td><td>2022-06-05</td><td>2022-06-05</td></tr><tr><td>&quot;WO0000004122360&quot;</td><td>&quot;AREQUIPA&quot;</td><td>215000</td><td>&quot;Zona Norte&quot;</td><td>&quot;Cerrado&quot;</td><td>2022-06-01</td><td>2022-06-13</td><td>2022-06-13</td></tr><tr><td>&quot;WO0000004122387&quot;</td><td>&quot;PLAZA LIMA NORTE&quot;</td><td>191058</td><td>&quot;Zona Centro&quot;</td><td>&quot;Rechazado&quot;</td><td>2022-06-01</td><td>2022-06-06</td><td>null</td></tr></tbody></table></div>"
      ],
      "text/plain": [
       "shape: (5, 8)\n",
       "┌────────────┬────────────┬───────────┬────────────┬───────────┬───────────┬───────────┬───────────┐\n",
       "│ TicketID   ┆ Agencia    ┆ AgenciaID ┆ Service    ┆ Estado    ┆ Fecha     ┆ Fecha     ┆ Fecha     │\n",
       "│ ---        ┆ ---        ┆ ---       ┆ Desk       ┆ ---       ┆ Creacion  ┆ Termino   ┆ Cierre    │\n",
       "│ str        ┆ str        ┆ i64       ┆ ---        ┆ str       ┆ ---       ┆ ---       ┆ ---       │\n",
       "│            ┆            ┆           ┆ str        ┆           ┆ date      ┆ date      ┆ date      │\n",
       "╞════════════╪════════════╪═══════════╪════════════╪═══════════╪═══════════╪═══════════╪═══════════╡\n",
       "│ WO00000041 ┆ IMPERIAL   ┆ 255001    ┆ Zona Norte ┆ Cerrado   ┆ 2022-06-0 ┆ 2022-06-1 ┆ 2022-06-1 │\n",
       "│ 22302      ┆            ┆           ┆            ┆           ┆ 1         ┆ 0         ┆ 0         │\n",
       "│ WO00000041 ┆ IMPERIAL   ┆ 255001    ┆ Zona Norte ┆ Cerrado   ┆ 2022-06-0 ┆ 2022-06-1 ┆ 2022-06-1 │\n",
       "│ 22303      ┆            ┆           ┆            ┆           ┆ 1         ┆ 7         ┆ 7         │\n",
       "│ WO00000041 ┆ PLAZA      ┆ 191062    ┆ Zona       ┆ Cerrado   ┆ 2022-06-0 ┆ 2022-06-0 ┆ 2022-06-0 │\n",
       "│ 22353      ┆ UNION      ┆           ┆ Centro     ┆           ┆ 1         ┆ 5         ┆ 5         │\n",
       "│ WO00000041 ┆ AREQUIPA   ┆ 215000    ┆ Zona Norte ┆ Cerrado   ┆ 2022-06-0 ┆ 2022-06-1 ┆ 2022-06-1 │\n",
       "│ 22360      ┆            ┆           ┆            ┆           ┆ 1         ┆ 3         ┆ 3         │\n",
       "│ WO00000041 ┆ PLAZA LIMA ┆ 191058    ┆ Zona       ┆ Rechazado ┆ 2022-06-0 ┆ 2022-06-0 ┆ null      │\n",
       "│ 22387      ┆ NORTE      ┆           ┆ Centro     ┆           ┆ 1         ┆ 6         ┆           │\n",
       "└────────────┴────────────┴───────────┴────────────┴───────────┴───────────┴───────────┴───────────┘"
      ]
     },
     "execution_count": 126,
     "metadata": {},
     "output_type": "execute_result"
    }
   ],
   "source": [
    "Tickets.head()"
   ]
  },
  {
   "cell_type": "code",
   "execution_count": 127,
   "metadata": {},
   "outputs": [],
   "source": [
    "#Crear la columna Fecha real Fin, si la Fecha Termino es nulo, colocar la Fecha de Cierre sino colocar Fecha Termino\n",
    "Tickets = Tickets.with_columns(\n",
    "    pl.when(pl.col(\"Fecha Termino\").is_null()).then(pl.col(\"Fecha Cierre\"))\n",
    "    .otherwise(pl.col(\"Fecha Termino\")).alias(\"Fecha Real Cierre\")\n",
    ")\n",
    "\n"
   ]
  },
  {
   "cell_type": "code",
   "execution_count": 128,
   "metadata": {},
   "outputs": [],
   "source": [
    "#Restar las fechas de Fecha Real Fin y Fecha Creacion\n",
    "Tickets = Tickets.with_columns(\n",
    "    (pl.col(\"Fecha Real Cierre\") - pl.col(\"Fecha Creacion\")).dt.total_days().alias(\"Dias Cierre\")\n",
    ")"
   ]
  },
  {
   "cell_type": "code",
   "execution_count": 129,
   "metadata": {},
   "outputs": [],
   "source": [
    "Tickets = Tickets.with_columns(\n",
    "    pl.when(pl.col(\"Dias Cierre\").is_null()).then(None)\n",
    "      .when(pl.col(\"Dias Cierre\") < 3).then(pl.lit(\"0 a 3 dias\"))\n",
    "      .when((pl.col(\"Dias Cierre\") >= 3) & (pl.col(\"Dias Cierre\") < 7)).then(pl.lit('3 a 7 dias'))\n",
    "      .when((pl.col(\"Dias Cierre\") >= 7) & (pl.col(\"Dias Cierre\") < 15)).then(pl.lit('7 a 15 dias'))\n",
    "      .otherwise(pl.lit(\"+ 15 dias\")).alias('Grupo Dias')\n",
    ")"
   ]
  },
  {
   "cell_type": "markdown",
   "metadata": {},
   "source": [
    "#### Lectura Base Atenciones"
   ]
  },
  {
   "cell_type": "code",
   "execution_count": 130,
   "metadata": {},
   "outputs": [
    {
     "data": {
      "text/html": [
       "<div><style>\n",
       ".dataframe > thead > tr,\n",
       ".dataframe > tbody > tr {\n",
       "  text-align: right;\n",
       "  white-space: pre-wrap;\n",
       "}\n",
       "</style>\n",
       "<small>shape: (12_604, 19)</small><table border=\"1\" class=\"dataframe\"><thead><tr><th>Numero Ticket</th><th>Semana de Visita</th><th>Fecha programada</th><th>Fecha Creacion</th><th>Fecha Cierre</th><th>Estado</th><th>Agencia</th><th>Descripción del servicio</th><th>Tipo de Ticket</th><th>Fecha Aprobacion de Cotizacion</th><th>Precio Venta con IGV (con IGV)</th><th>Monto Registrado en Planilla</th><th>Fecha de Registro en Planilla</th><th>Número de SOLPED</th><th>Proveedor</th><th>Costo Atencion</th><th>Unidades</th><th>Número de OS / OC</th><th>Codigo de Conformidad</th></tr><tr><td>str</td><td>str</td><td>str</td><td>str</td><td>str</td><td>str</td><td>str</td><td>str</td><td>str</td><td>str</td><td>str</td><td>str</td><td>str</td><td>str</td><td>str</td><td>str</td><td>str</td><td>str</td><td>str</td></tr></thead><tbody><tr><td>&quot;WO0000005584689&quot;</td><td>null</td><td>null</td><td>&quot;08/09/2023&quot;</td><td>&quot;17/08/2023&quot;</td><td>&quot;Cerrado&quot;</td><td>&quot;LAS MALVINAS - 191076&quot;</td><td>&quot;Usuario Solicitante: U16620 - POOL EDGARD TORRES CORONEL\n",
       "Mi silla Giratoria GDO tiene juego en su b…</td><td>&quot;Variable&quot;</td><td>&quot;44095&quot;</td><td>&quot;10/03/1900 19:12:00&quot;</td><td>null</td><td>null</td><td>null</td><td>&quot;MR EXPRESS&quot;</td><td>null</td><td>null</td><td>null</td><td>null</td></tr><tr><td>&quot;WO0000004544943&quot;</td><td>null</td><td>null</td><td>&quot;18/10/2022&quot;</td><td>null</td><td>&quot;Rechazado&quot;</td><td>null</td><td>null</td><td>&quot;Rechazado&quot;</td><td>null</td><td>null</td><td>null</td><td>null</td><td>null</td><td>null</td><td>&quot;100&quot;</td><td>null</td><td>&quot;03678-112022&quot;</td><td>&quot;111903930&quot;</td></tr><tr><td>&quot;WO0000004545246&quot;</td><td>null</td><td>null</td><td>&quot;18/10/2022&quot;</td><td>null</td><td>&quot;Rechazado&quot;</td><td>null</td><td>null</td><td>&quot;Rechazado&quot;</td><td>null</td><td>null</td><td>null</td><td>null</td><td>null</td><td>null</td><td>&quot;100&quot;</td><td>null</td><td>&quot;02321-112022&quot;</td><td>&quot;111904103&quot;</td></tr><tr><td>&quot;WO0000004559125&quot;</td><td>null</td><td>null</td><td>&quot;24/10/2022&quot;</td><td>null</td><td>&quot;Rechazado&quot;</td><td>null</td><td>null</td><td>&quot;Rechazado&quot;</td><td>null</td><td>null</td><td>null</td><td>null</td><td>null</td><td>null</td><td>&quot;100&quot;</td><td>null</td><td>null</td><td>&quot;Pendiente de OS HABOM&quot;</td></tr><tr><td>&quot;WO0000004707477&quot;</td><td>null</td><td>null</td><td>&quot;08/11/2022&quot;</td><td>null</td><td>&quot;Rechazado&quot;</td><td>null</td><td>null</td><td>&quot;Rechazado&quot;</td><td>null</td><td>null</td><td>null</td><td>null</td><td>null</td><td>null</td><td>&quot;100&quot;</td><td>null</td><td>&quot;02918-092022&quot;</td><td>&quot;111900539&quot;</td></tr><tr><td>&hellip;</td><td>&hellip;</td><td>&hellip;</td><td>&hellip;</td><td>&hellip;</td><td>&hellip;</td><td>&hellip;</td><td>&hellip;</td><td>&hellip;</td><td>&hellip;</td><td>&hellip;</td><td>&hellip;</td><td>&hellip;</td><td>&hellip;</td><td>&hellip;</td><td>&hellip;</td><td>&hellip;</td><td>&hellip;</td><td>&hellip;</td></tr><tr><td>&quot;WO0000005737893&quot;</td><td>null</td><td>null</td><td>&quot;29/10/2023&quot;</td><td>null</td><td>&quot;En curso&quot;</td><td>&quot;MENDIOLA - 191078&quot;</td><td>&quot;Usuario Solicitante: S91411 - JOSE OCTAVIO HUAMAN ARISTA\n",
       "TECNICO ELECTRICISTA APERTURA DE TABLERO -…</td><td>&quot;Variable&quot;</td><td>null</td><td>null</td><td>null</td><td>null</td><td>null</td><td>&quot;ACCENTURE&quot;</td><td>null</td><td>null</td><td>null</td><td>null</td></tr><tr><td>&quot;WO0000005738706&quot;</td><td>null</td><td>null</td><td>&quot;29/10/2023&quot;</td><td>null</td><td>&quot;En curso&quot;</td><td>&quot;PUENTE PIEDRA - 191035&quot;</td><td>&quot;Usuario Solicitante: S00233 - CARLA FATIMA VELASQUEZ LORENZO\n",
       "Buenas tardes , estimados tenemos inco…</td><td>&quot;Variable&quot;</td><td>null</td><td>null</td><td>null</td><td>null</td><td>null</td><td>&quot;ACCENTURE&quot;</td><td>null</td><td>null</td><td>null</td><td>null</td></tr><tr><td>&quot;WO0000005738709&quot;</td><td>null</td><td>null</td><td>&quot;29/10/2023&quot;</td><td>null</td><td>&quot;En curso&quot;</td><td>&quot;MEGA PLAZA - 191010&quot;</td><td>&quot;Usuario Solicitante: U17777 - MIRIAM MARIZA CIEZA CORONADO\n",
       "extractor de aire de servicios higienico…</td><td>&quot;Variable&quot;</td><td>null</td><td>null</td><td>null</td><td>null</td><td>null</td><td>&quot;COORPORACION R&amp;M&quot;</td><td>null</td><td>null</td><td>null</td><td>null</td></tr><tr><td>&quot;WO0000005738726&quot;</td><td>null</td><td>null</td><td>&quot;29/10/2023&quot;</td><td>null</td><td>&quot;En curso&quot;</td><td>&quot;NACIONES UNIDAS - 191084&quot;</td><td>&quot;Usuario Solicitante: S83674 - KEVIN JEAN FRANCO SAENZ ZEA\n",
       "Estimados:\n",
       "\n",
       "Solicitamos la remodelación d…</td><td>&quot;Variable&quot;</td><td>null</td><td>null</td><td>null</td><td>null</td><td>null</td><td>&quot;ACCENTURE&quot;</td><td>null</td><td>null</td><td>null</td><td>null</td></tr><tr><td>&quot;WO0000005738729&quot;</td><td>null</td><td>null</td><td>&quot;29/10/2023&quot;</td><td>null</td><td>&quot;En curso&quot;</td><td>&quot;NACIONES UNIDAS - 191084&quot;</td><td>&quot;Usuario Solicitante: S83674 - KEVIN JEAN FRANCO SAENZ ZEA\n",
       "Estimados:\n",
       "\n",
       "Se solicitan la remodelación …</td><td>&quot;Variable&quot;</td><td>null</td><td>null</td><td>null</td><td>null</td><td>null</td><td>&quot;ACCENTURE&quot;</td><td>null</td><td>null</td><td>null</td><td>null</td></tr></tbody></table></div>"
      ],
      "text/plain": [
       "shape: (12_604, 19)\n",
       "┌───────────┬───────────┬───────────┬───────────┬───┬───────────┬──────────┬───────────┬───────────┐\n",
       "│ Numero    ┆ Semana de ┆ Fecha pro ┆ Fecha     ┆ … ┆ Costo     ┆ Unidades ┆ Número de ┆ Codigo de │\n",
       "│ Ticket    ┆ Visita    ┆ gramada   ┆ Creacion  ┆   ┆ Atencion  ┆ ---      ┆ OS / OC   ┆ Conformid │\n",
       "│ ---       ┆ ---       ┆ ---       ┆ ---       ┆   ┆ ---       ┆ str      ┆ ---       ┆ ad        │\n",
       "│ str       ┆ str       ┆ str       ┆ str       ┆   ┆ str       ┆          ┆ str       ┆ ---       │\n",
       "│           ┆           ┆           ┆           ┆   ┆           ┆          ┆           ┆ str       │\n",
       "╞═══════════╪═══════════╪═══════════╪═══════════╪═══╪═══════════╪══════════╪═══════════╪═══════════╡\n",
       "│ WO0000005 ┆ null      ┆ null      ┆ 08/09/202 ┆ … ┆ null      ┆ null     ┆ null      ┆ null      │\n",
       "│ 584689    ┆           ┆           ┆ 3         ┆   ┆           ┆          ┆           ┆           │\n",
       "│ WO0000004 ┆ null      ┆ null      ┆ 18/10/202 ┆ … ┆ 100       ┆ null     ┆ 03678-112 ┆ 111903930 │\n",
       "│ 544943    ┆           ┆           ┆ 2         ┆   ┆           ┆          ┆ 022       ┆           │\n",
       "│ WO0000004 ┆ null      ┆ null      ┆ 18/10/202 ┆ … ┆ 100       ┆ null     ┆ 02321-112 ┆ 111904103 │\n",
       "│ 545246    ┆           ┆           ┆ 2         ┆   ┆           ┆          ┆ 022       ┆           │\n",
       "│ WO0000004 ┆ null      ┆ null      ┆ 24/10/202 ┆ … ┆ 100       ┆ null     ┆ null      ┆ Pendiente │\n",
       "│ 559125    ┆           ┆           ┆ 2         ┆   ┆           ┆          ┆           ┆ de OS     │\n",
       "│           ┆           ┆           ┆           ┆   ┆           ┆          ┆           ┆ HABOM     │\n",
       "│ WO0000004 ┆ null      ┆ null      ┆ 08/11/202 ┆ … ┆ 100       ┆ null     ┆ 02918-092 ┆ 111900539 │\n",
       "│ 707477    ┆           ┆           ┆ 2         ┆   ┆           ┆          ┆ 022       ┆           │\n",
       "│ …         ┆ …         ┆ …         ┆ …         ┆ … ┆ …         ┆ …        ┆ …         ┆ …         │\n",
       "│ WO0000005 ┆ null      ┆ null      ┆ 29/10/202 ┆ … ┆ null      ┆ null     ┆ null      ┆ null      │\n",
       "│ 737893    ┆           ┆           ┆ 3         ┆   ┆           ┆          ┆           ┆           │\n",
       "│ WO0000005 ┆ null      ┆ null      ┆ 29/10/202 ┆ … ┆ null      ┆ null     ┆ null      ┆ null      │\n",
       "│ 738706    ┆           ┆           ┆ 3         ┆   ┆           ┆          ┆           ┆           │\n",
       "│ WO0000005 ┆ null      ┆ null      ┆ 29/10/202 ┆ … ┆ null      ┆ null     ┆ null      ┆ null      │\n",
       "│ 738709    ┆           ┆           ┆ 3         ┆   ┆           ┆          ┆           ┆           │\n",
       "│ WO0000005 ┆ null      ┆ null      ┆ 29/10/202 ┆ … ┆ null      ┆ null     ┆ null      ┆ null      │\n",
       "│ 738726    ┆           ┆           ┆ 3         ┆   ┆           ┆          ┆           ┆           │\n",
       "│ WO0000005 ┆ null      ┆ null      ┆ 29/10/202 ┆ … ┆ null      ┆ null     ┆ null      ┆ null      │\n",
       "│ 738729    ┆           ┆           ┆ 3         ┆   ┆           ┆          ┆           ┆           │\n",
       "└───────────┴───────────┴───────────┴───────────┴───┴───────────┴──────────┴───────────┴───────────┘"
      ]
     },
     "execution_count": 130,
     "metadata": {},
     "output_type": "execute_result"
    }
   ],
   "source": [
    "pl.read_excel(\n",
    "    source=\"./Atenciones/Atenciones Centro.xlsx\",\n",
    "    sheet_name=\"Hoja1\",\n",
    "    engine=\"xlsx2csv\",\n",
    "    read_options={\n",
    "        'infer_schema_length': 0\n",
    "    }\n",
    ")"
   ]
  },
  {
   "cell_type": "markdown",
   "metadata": {},
   "source": [
    "#### Lectura Base Atenciones"
   ]
  },
  {
   "cell_type": "code",
   "execution_count": 131,
   "metadata": {},
   "outputs": [],
   "source": [
    "dataAtenciones = pl.read_excel(\n",
    "    source = './Atenciones/Atenciones Centro.xlsx',\n",
    "    sheet_name = 'Hoja1',\n",
    "    engine = 'xlsx2csv',\n",
    "    read_options = {\n",
    "        'infer_schema_length': 0,\n",
    "        'columns' : ['Numero Ticket','Tipo de Ticket','Proveedor','Costo Atencion']\n",
    "    }\n",
    ")"
   ]
  },
  {
   "cell_type": "markdown",
   "metadata": {},
   "source": [
    "#### Reemplazando valores en la columna costo de Atencion\n",
    "\n",
    "- Reemplazar las \",\" por  los puntos \".\"\n",
    "- Si aparece el nombre \"Costo Cero\" o \"Sin Costo\", colocar por el valor de \"0\"\n",
    "- Si no es ni COSTO CERO ni SIN COSTO, reemplazar por el valor de Null "
   ]
  },
  {
   "cell_type": "code",
   "execution_count": 132,
   "metadata": {},
   "outputs": [
    {
     "data": {
      "text/html": [
       "<div><style>\n",
       ".dataframe > thead > tr,\n",
       ".dataframe > tbody > tr {\n",
       "  text-align: right;\n",
       "  white-space: pre-wrap;\n",
       "}\n",
       "</style>\n",
       "<small>shape: (5, 4)</small><table border=\"1\" class=\"dataframe\"><thead><tr><th>Numero Ticket</th><th>Tipo de Ticket</th><th>Proveedor</th><th>Costo Atencion</th></tr><tr><td>str</td><td>str</td><td>str</td><td>str</td></tr></thead><tbody><tr><td>&quot;WO0000005584689&quot;</td><td>&quot;Variable&quot;</td><td>&quot;MR EXPRESS&quot;</td><td>null</td></tr><tr><td>&quot;WO0000004544943&quot;</td><td>&quot;Rechazado&quot;</td><td>null</td><td>&quot;100&quot;</td></tr><tr><td>&quot;WO0000004545246&quot;</td><td>&quot;Rechazado&quot;</td><td>null</td><td>&quot;100&quot;</td></tr><tr><td>&quot;WO0000004559125&quot;</td><td>&quot;Rechazado&quot;</td><td>null</td><td>&quot;100&quot;</td></tr><tr><td>&quot;WO0000004707477&quot;</td><td>&quot;Rechazado&quot;</td><td>null</td><td>&quot;100&quot;</td></tr></tbody></table></div>"
      ],
      "text/plain": [
       "shape: (5, 4)\n",
       "┌─────────────────┬────────────────┬────────────┬────────────────┐\n",
       "│ Numero Ticket   ┆ Tipo de Ticket ┆ Proveedor  ┆ Costo Atencion │\n",
       "│ ---             ┆ ---            ┆ ---        ┆ ---            │\n",
       "│ str             ┆ str            ┆ str        ┆ str            │\n",
       "╞═════════════════╪════════════════╪════════════╪════════════════╡\n",
       "│ WO0000005584689 ┆ Variable       ┆ MR EXPRESS ┆ null           │\n",
       "│ WO0000004544943 ┆ Rechazado      ┆ null       ┆ 100            │\n",
       "│ WO0000004545246 ┆ Rechazado      ┆ null       ┆ 100            │\n",
       "│ WO0000004559125 ┆ Rechazado      ┆ null       ┆ 100            │\n",
       "│ WO0000004707477 ┆ Rechazado      ┆ null       ┆ 100            │\n",
       "└─────────────────┴────────────────┴────────────┴────────────────┘"
      ]
     },
     "execution_count": 132,
     "metadata": {},
     "output_type": "execute_result"
    }
   ],
   "source": [
    "#dataAtenciones.filter(\n",
    "#    (pl.col('Costo Atencion').str.contains(',')) | \n",
    "#    (pl.col('Costo Atencion').str.to_uppercase().is_in(['COSTO CERO','SIN COSTO']))\n",
    "#)\n",
    "dataAtenciones = dataAtenciones.select(\n",
    "    pl.col(['Numero Ticket','Tipo de Ticket','Proveedor']),\n",
    "    pl.col('Costo Atencion').str.replace(',','.')\n",
    "    .str.to_uppercase()\n",
    "    .str.strip_chars()\n",
    "    .str.replace_many(\n",
    "        ['COSTO CERO','SIN COSTO'],\"0\"\n",
    "    ).alias('Costo Atencion')\n",
    ")\n",
    "\n",
    "dataAtenciones.head()"
   ]
  },
  {
   "cell_type": "code",
   "execution_count": 133,
   "metadata": {},
   "outputs": [],
   "source": [
    "def texto_a_decimal(valor: str):\n",
    "    try:\n",
    "        return float(valor)\n",
    "    except:\n",
    "        return None"
   ]
  },
  {
   "cell_type": "code",
   "execution_count": 134,
   "metadata": {},
   "outputs": [
    {
     "name": "stderr",
     "output_type": "stream",
     "text": [
      "/var/folders/gh/4tnr9rys1477444j5vcrtv0h0000gn/T/ipykernel_6665/2382837253.py:2: MapWithoutReturnDtypeWarning: Calling `map_elements` without specifying `return_dtype` can lead to unpredictable results. Specify `return_dtype` to silence this warning.\n",
      "  dataAtenciones.with_columns(\n"
     ]
    },
    {
     "data": {
      "text/html": [
       "<div><style>\n",
       ".dataframe > thead > tr,\n",
       ".dataframe > tbody > tr {\n",
       "  text-align: right;\n",
       "  white-space: pre-wrap;\n",
       "}\n",
       "</style>\n",
       "<small>shape: (12_604, 5)</small><table border=\"1\" class=\"dataframe\"><thead><tr><th>Numero Ticket</th><th>Tipo de Ticket</th><th>Proveedor</th><th>Costo Atencion</th><th>Costo</th></tr><tr><td>str</td><td>str</td><td>str</td><td>str</td><td>f64</td></tr></thead><tbody><tr><td>&quot;WO0000005584689&quot;</td><td>&quot;Variable&quot;</td><td>&quot;MR EXPRESS&quot;</td><td>null</td><td>null</td></tr><tr><td>&quot;WO0000004544943&quot;</td><td>&quot;Rechazado&quot;</td><td>null</td><td>&quot;100&quot;</td><td>100.0</td></tr><tr><td>&quot;WO0000004545246&quot;</td><td>&quot;Rechazado&quot;</td><td>null</td><td>&quot;100&quot;</td><td>100.0</td></tr><tr><td>&quot;WO0000004559125&quot;</td><td>&quot;Rechazado&quot;</td><td>null</td><td>&quot;100&quot;</td><td>100.0</td></tr><tr><td>&quot;WO0000004707477&quot;</td><td>&quot;Rechazado&quot;</td><td>null</td><td>&quot;100&quot;</td><td>100.0</td></tr><tr><td>&hellip;</td><td>&hellip;</td><td>&hellip;</td><td>&hellip;</td><td>&hellip;</td></tr><tr><td>&quot;WO0000005737893&quot;</td><td>&quot;Variable&quot;</td><td>&quot;ACCENTURE&quot;</td><td>null</td><td>null</td></tr><tr><td>&quot;WO0000005738706&quot;</td><td>&quot;Variable&quot;</td><td>&quot;ACCENTURE&quot;</td><td>null</td><td>null</td></tr><tr><td>&quot;WO0000005738709&quot;</td><td>&quot;Variable&quot;</td><td>&quot;COORPORACION R&amp;M&quot;</td><td>null</td><td>null</td></tr><tr><td>&quot;WO0000005738726&quot;</td><td>&quot;Variable&quot;</td><td>&quot;ACCENTURE&quot;</td><td>null</td><td>null</td></tr><tr><td>&quot;WO0000005738729&quot;</td><td>&quot;Variable&quot;</td><td>&quot;ACCENTURE&quot;</td><td>null</td><td>null</td></tr></tbody></table></div>"
      ],
      "text/plain": [
       "shape: (12_604, 5)\n",
       "┌─────────────────┬────────────────┬──────────────────┬────────────────┬───────┐\n",
       "│ Numero Ticket   ┆ Tipo de Ticket ┆ Proveedor        ┆ Costo Atencion ┆ Costo │\n",
       "│ ---             ┆ ---            ┆ ---              ┆ ---            ┆ ---   │\n",
       "│ str             ┆ str            ┆ str              ┆ str            ┆ f64   │\n",
       "╞═════════════════╪════════════════╪══════════════════╪════════════════╪═══════╡\n",
       "│ WO0000005584689 ┆ Variable       ┆ MR EXPRESS       ┆ null           ┆ null  │\n",
       "│ WO0000004544943 ┆ Rechazado      ┆ null             ┆ 100            ┆ 100.0 │\n",
       "│ WO0000004545246 ┆ Rechazado      ┆ null             ┆ 100            ┆ 100.0 │\n",
       "│ WO0000004559125 ┆ Rechazado      ┆ null             ┆ 100            ┆ 100.0 │\n",
       "│ WO0000004707477 ┆ Rechazado      ┆ null             ┆ 100            ┆ 100.0 │\n",
       "│ …               ┆ …              ┆ …                ┆ …              ┆ …     │\n",
       "│ WO0000005737893 ┆ Variable       ┆ ACCENTURE        ┆ null           ┆ null  │\n",
       "│ WO0000005738706 ┆ Variable       ┆ ACCENTURE        ┆ null           ┆ null  │\n",
       "│ WO0000005738709 ┆ Variable       ┆ COORPORACION R&M ┆ null           ┆ null  │\n",
       "│ WO0000005738726 ┆ Variable       ┆ ACCENTURE        ┆ null           ┆ null  │\n",
       "│ WO0000005738729 ┆ Variable       ┆ ACCENTURE        ┆ null           ┆ null  │\n",
       "└─────────────────┴────────────────┴──────────────────┴────────────────┴───────┘"
      ]
     },
     "execution_count": 134,
     "metadata": {},
     "output_type": "execute_result"
    }
   ],
   "source": [
    "# Convertir el valor de Costo Atencion a Decimal\n",
    "dataAtenciones.with_columns(\n",
    "    pl.col('Costo Atencion').map_elements(texto_a_decimal).alias('Costo')\n",
    ")"
   ]
  },
  {
   "cell_type": "code",
   "execution_count": 135,
   "metadata": {},
   "outputs": [],
   "source": [
    "#Leer archivos que estan dentro de una carpeta\n",
    "from pathlib import Path \n"
   ]
  },
  {
   "cell_type": "code",
   "execution_count": 136,
   "metadata": {},
   "outputs": [
    {
     "data": {
      "text/plain": [
       "PosixPath('Atenciones')"
      ]
     },
     "execution_count": 136,
     "metadata": {},
     "output_type": "execute_result"
    }
   ],
   "source": [
    "rutaCarpeta  = Path('./Atenciones/')\n",
    "rutaCarpeta "
   ]
  },
  {
   "cell_type": "code",
   "execution_count": 137,
   "metadata": {},
   "outputs": [
    {
     "data": {
      "text/plain": [
       "[PosixPath('Atenciones/Atenciones Sur.xlsx'),\n",
       " PosixPath('Atenciones/Atenciones Centro.xlsx'),\n",
       " PosixPath('Atenciones/Atenciones Norte.xlsx')]"
      ]
     },
     "execution_count": 137,
     "metadata": {},
     "output_type": "execute_result"
    }
   ],
   "source": [
    "list(rutaCarpeta.glob('*.xlsx'))"
   ]
  },
  {
   "cell_type": "code",
   "execution_count": 138,
   "metadata": {},
   "outputs": [],
   "source": [
    "archivos = list(rutaCarpeta.glob('*.xlsx'))\n",
    "for archivo in archivos:\n",
    "    #print(str(archivo).split('/')[1])\n",
    "    archivo.name"
   ]
  },
  {
   "cell_type": "code",
   "execution_count": 139,
   "metadata": {},
   "outputs": [],
   "source": [
    "Atenciones = pl.DataFrame()\n",
    "for archivo in archivos:\n",
    "    file = archivo.name\n",
    "    filepath = f'./Atenciones/{file}'\n",
    "    data = pl.read_excel(\n",
    "        source = filepath,\n",
    "        sheet_name = 'Hoja1',\n",
    "        engine = 'xlsx2csv',\n",
    "        read_options = {\n",
    "            'infer_schema_length': 0,\n",
    "            'columns' : ['Numero Ticket','Tipo de Ticket','Proveedor','Costo Atencion']\n",
    "        }\n",
    "    )\n",
    "    data = data.with_columns(\n",
    "        pl.lit(file).alias('Nombre_Archivo')\n",
    "    )\n",
    "    Atenciones = pl.concat([Atenciones, data], how='vertical')\n",
    "\n",
    "    \n",
    "    "
   ]
  },
  {
   "cell_type": "code",
   "execution_count": 140,
   "metadata": {},
   "outputs": [
    {
     "data": {
      "text/html": [
       "<div><style>\n",
       ".dataframe > thead > tr,\n",
       ".dataframe > tbody > tr {\n",
       "  text-align: right;\n",
       "  white-space: pre-wrap;\n",
       "}\n",
       "</style>\n",
       "<small>shape: (5, 5)</small><table border=\"1\" class=\"dataframe\"><thead><tr><th>Numero Ticket</th><th>Tipo de Ticket</th><th>Proveedor</th><th>Costo Atencion</th><th>Nombre_Archivo</th></tr><tr><td>str</td><td>str</td><td>str</td><td>str</td><td>str</td></tr></thead><tbody><tr><td>&quot;WO0000004149361&quot;</td><td>&quot;Rechazado&quot;</td><td>null</td><td>null</td><td>&quot;Atenciones Sur.xlsx&quot;</td></tr><tr><td>&quot;WO0000004849382&quot;</td><td>&quot;Variable&quot;</td><td>&quot;CIME COMERCIAL&quot;</td><td>null</td><td>&quot;Atenciones Sur.xlsx&quot;</td></tr><tr><td>&quot;WO0000004849382&quot;</td><td>&quot;Variable&quot;</td><td>&quot;CIME COMERCIAL&quot;</td><td>null</td><td>&quot;Atenciones Sur.xlsx&quot;</td></tr><tr><td>&quot;WO0000004849382&quot;</td><td>&quot;Variable&quot;</td><td>&quot;CIME COMERCIAL&quot;</td><td>null</td><td>&quot;Atenciones Sur.xlsx&quot;</td></tr><tr><td>&quot;WO0000004849382&quot;</td><td>&quot;Variable&quot;</td><td>&quot;CIME COMERCIAL&quot;</td><td>null</td><td>&quot;Atenciones Sur.xlsx&quot;</td></tr></tbody></table></div>"
      ],
      "text/plain": [
       "shape: (5, 5)\n",
       "┌─────────────────┬────────────────┬────────────────┬────────────────┬─────────────────────┐\n",
       "│ Numero Ticket   ┆ Tipo de Ticket ┆ Proveedor      ┆ Costo Atencion ┆ Nombre_Archivo      │\n",
       "│ ---             ┆ ---            ┆ ---            ┆ ---            ┆ ---                 │\n",
       "│ str             ┆ str            ┆ str            ┆ str            ┆ str                 │\n",
       "╞═════════════════╪════════════════╪════════════════╪════════════════╪═════════════════════╡\n",
       "│ WO0000004149361 ┆ Rechazado      ┆ null           ┆ null           ┆ Atenciones Sur.xlsx │\n",
       "│ WO0000004849382 ┆ Variable       ┆ CIME COMERCIAL ┆ null           ┆ Atenciones Sur.xlsx │\n",
       "│ WO0000004849382 ┆ Variable       ┆ CIME COMERCIAL ┆ null           ┆ Atenciones Sur.xlsx │\n",
       "│ WO0000004849382 ┆ Variable       ┆ CIME COMERCIAL ┆ null           ┆ Atenciones Sur.xlsx │\n",
       "│ WO0000004849382 ┆ Variable       ┆ CIME COMERCIAL ┆ null           ┆ Atenciones Sur.xlsx │\n",
       "└─────────────────┴────────────────┴────────────────┴────────────────┴─────────────────────┘"
      ]
     },
     "execution_count": 140,
     "metadata": {},
     "output_type": "execute_result"
    }
   ],
   "source": [
    "Atenciones.head()"
   ]
  },
  {
   "cell_type": "code",
   "execution_count": 141,
   "metadata": {},
   "outputs": [
    {
     "data": {
      "text/html": [
       "<div><style>\n",
       ".dataframe > thead > tr,\n",
       ".dataframe > tbody > tr {\n",
       "  text-align: right;\n",
       "  white-space: pre-wrap;\n",
       "}\n",
       "</style>\n",
       "<small>shape: (5, 4)</small><table border=\"1\" class=\"dataframe\"><thead><tr><th>Numero Ticket</th><th>Tipo de Ticket</th><th>Proveedor</th><th>Costo Atencion</th></tr><tr><td>str</td><td>str</td><td>str</td><td>str</td></tr></thead><tbody><tr><td>&quot;WO0000004149361&quot;</td><td>&quot;Rechazado&quot;</td><td>null</td><td>null</td></tr><tr><td>&quot;WO0000004849382&quot;</td><td>&quot;Variable&quot;</td><td>&quot;CIME COMERCIAL&quot;</td><td>null</td></tr><tr><td>&quot;WO0000004849382&quot;</td><td>&quot;Variable&quot;</td><td>&quot;CIME COMERCIAL&quot;</td><td>null</td></tr><tr><td>&quot;WO0000004849382&quot;</td><td>&quot;Variable&quot;</td><td>&quot;CIME COMERCIAL&quot;</td><td>null</td></tr><tr><td>&quot;WO0000004849382&quot;</td><td>&quot;Variable&quot;</td><td>&quot;CIME COMERCIAL&quot;</td><td>null</td></tr></tbody></table></div>"
      ],
      "text/plain": [
       "shape: (5, 4)\n",
       "┌─────────────────┬────────────────┬────────────────┬────────────────┐\n",
       "│ Numero Ticket   ┆ Tipo de Ticket ┆ Proveedor      ┆ Costo Atencion │\n",
       "│ ---             ┆ ---            ┆ ---            ┆ ---            │\n",
       "│ str             ┆ str            ┆ str            ┆ str            │\n",
       "╞═════════════════╪════════════════╪════════════════╪════════════════╡\n",
       "│ WO0000004149361 ┆ Rechazado      ┆ null           ┆ null           │\n",
       "│ WO0000004849382 ┆ Variable       ┆ CIME COMERCIAL ┆ null           │\n",
       "│ WO0000004849382 ┆ Variable       ┆ CIME COMERCIAL ┆ null           │\n",
       "│ WO0000004849382 ┆ Variable       ┆ CIME COMERCIAL ┆ null           │\n",
       "│ WO0000004849382 ┆ Variable       ┆ CIME COMERCIAL ┆ null           │\n",
       "└─────────────────┴────────────────┴────────────────┴────────────────┘"
      ]
     },
     "execution_count": 141,
     "metadata": {},
     "output_type": "execute_result"
    }
   ],
   "source": [
    "#Transformando la base de Atenciones\n",
    "#dataAtenciones.filter(\n",
    "#    (pl.col('Costo Atencion').str.contains(',')) | \n",
    "#    (pl.col('Costo Atencion').str.to_uppercase().is_in(['COSTO CERO','SIN COSTO']))\n",
    "#)\n",
    "Atenciones = Atenciones.select(\n",
    "    pl.col(['Numero Ticket','Tipo de Ticket','Proveedor']),\n",
    "    pl.col('Costo Atencion').str.replace(',','.')\n",
    "    .str.to_uppercase()\n",
    "    .str.strip_chars()\n",
    "    .str.replace_many(\n",
    "        ['COSTO CERO','SIN COSTO'],\"0\"\n",
    "    ).alias('Costo Atencion')\n",
    ")\n",
    "\n",
    "Atenciones.head()"
   ]
  },
  {
   "cell_type": "code",
   "execution_count": 142,
   "metadata": {},
   "outputs": [
    {
     "name": "stderr",
     "output_type": "stream",
     "text": [
      "/var/folders/gh/4tnr9rys1477444j5vcrtv0h0000gn/T/ipykernel_6665/1238145612.py:1: MapWithoutReturnDtypeWarning: Calling `map_elements` without specifying `return_dtype` can lead to unpredictable results. Specify `return_dtype` to silence this warning.\n",
      "  Atenciones = Atenciones.with_columns(\n"
     ]
    }
   ],
   "source": [
    "Atenciones = Atenciones.with_columns(\n",
    "    pl.col('Costo Atencion').map_elements(texto_a_decimal).alias('Costo Atencion')\n",
    ")"
   ]
  },
  {
   "cell_type": "code",
   "execution_count": 143,
   "metadata": {},
   "outputs": [
    {
     "data": {
      "text/html": [
       "<div><style>\n",
       ".dataframe > thead > tr,\n",
       ".dataframe > tbody > tr {\n",
       "  text-align: right;\n",
       "  white-space: pre-wrap;\n",
       "}\n",
       "</style>\n",
       "<small>shape: (5, 11)</small><table border=\"1\" class=\"dataframe\"><thead><tr><th>TicketID</th><th>Agencia</th><th>AgenciaID</th><th>Service Desk</th><th>Estado</th><th>Fecha Creacion</th><th>Fecha Termino</th><th>Fecha Cierre</th><th>Fecha Real Cierre</th><th>Dias Cierre</th><th>Grupo Dias</th></tr><tr><td>str</td><td>str</td><td>i64</td><td>str</td><td>str</td><td>date</td><td>date</td><td>date</td><td>date</td><td>i64</td><td>str</td></tr></thead><tbody><tr><td>&quot;WO0000004122302&quot;</td><td>&quot;IMPERIAL&quot;</td><td>255001</td><td>&quot;Zona Norte&quot;</td><td>&quot;Cerrado&quot;</td><td>2022-06-01</td><td>2022-06-10</td><td>2022-06-10</td><td>2022-06-10</td><td>9</td><td>&quot;7 a 15 dias&quot;</td></tr><tr><td>&quot;WO0000004122303&quot;</td><td>&quot;IMPERIAL&quot;</td><td>255001</td><td>&quot;Zona Norte&quot;</td><td>&quot;Cerrado&quot;</td><td>2022-06-01</td><td>2022-06-17</td><td>2022-06-17</td><td>2022-06-17</td><td>16</td><td>&quot;+ 15 dias&quot;</td></tr><tr><td>&quot;WO0000004122353&quot;</td><td>&quot;PLAZA UNION&quot;</td><td>191062</td><td>&quot;Zona Centro&quot;</td><td>&quot;Cerrado&quot;</td><td>2022-06-01</td><td>2022-06-05</td><td>2022-06-05</td><td>2022-06-05</td><td>4</td><td>&quot;3 a 7 dias&quot;</td></tr><tr><td>&quot;WO0000004122360&quot;</td><td>&quot;AREQUIPA&quot;</td><td>215000</td><td>&quot;Zona Norte&quot;</td><td>&quot;Cerrado&quot;</td><td>2022-06-01</td><td>2022-06-13</td><td>2022-06-13</td><td>2022-06-13</td><td>12</td><td>&quot;7 a 15 dias&quot;</td></tr><tr><td>&quot;WO0000004122387&quot;</td><td>&quot;PLAZA LIMA NORTE&quot;</td><td>191058</td><td>&quot;Zona Centro&quot;</td><td>&quot;Rechazado&quot;</td><td>2022-06-01</td><td>2022-06-06</td><td>null</td><td>2022-06-06</td><td>5</td><td>&quot;3 a 7 dias&quot;</td></tr></tbody></table></div>"
      ],
      "text/plain": [
       "shape: (5, 11)\n",
       "┌───────────┬───────────┬───────────┬───────────┬───┬───────────┬───────────┬───────────┬──────────┐\n",
       "│ TicketID  ┆ Agencia   ┆ AgenciaID ┆ Service   ┆ … ┆ Fecha     ┆ Fecha     ┆ Dias      ┆ Grupo    │\n",
       "│ ---       ┆ ---       ┆ ---       ┆ Desk      ┆   ┆ Cierre    ┆ Real      ┆ Cierre    ┆ Dias     │\n",
       "│ str       ┆ str       ┆ i64       ┆ ---       ┆   ┆ ---       ┆ Cierre    ┆ ---       ┆ ---      │\n",
       "│           ┆           ┆           ┆ str       ┆   ┆ date      ┆ ---       ┆ i64       ┆ str      │\n",
       "│           ┆           ┆           ┆           ┆   ┆           ┆ date      ┆           ┆          │\n",
       "╞═══════════╪═══════════╪═══════════╪═══════════╪═══╪═══════════╪═══════════╪═══════════╪══════════╡\n",
       "│ WO0000004 ┆ IMPERIAL  ┆ 255001    ┆ Zona      ┆ … ┆ 2022-06-1 ┆ 2022-06-1 ┆ 9         ┆ 7 a 15   │\n",
       "│ 122302    ┆           ┆           ┆ Norte     ┆   ┆ 0         ┆ 0         ┆           ┆ dias     │\n",
       "│ WO0000004 ┆ IMPERIAL  ┆ 255001    ┆ Zona      ┆ … ┆ 2022-06-1 ┆ 2022-06-1 ┆ 16        ┆ + 15     │\n",
       "│ 122303    ┆           ┆           ┆ Norte     ┆   ┆ 7         ┆ 7         ┆           ┆ dias     │\n",
       "│ WO0000004 ┆ PLAZA     ┆ 191062    ┆ Zona      ┆ … ┆ 2022-06-0 ┆ 2022-06-0 ┆ 4         ┆ 3 a 7    │\n",
       "│ 122353    ┆ UNION     ┆           ┆ Centro    ┆   ┆ 5         ┆ 5         ┆           ┆ dias     │\n",
       "│ WO0000004 ┆ AREQUIPA  ┆ 215000    ┆ Zona      ┆ … ┆ 2022-06-1 ┆ 2022-06-1 ┆ 12        ┆ 7 a 15   │\n",
       "│ 122360    ┆           ┆           ┆ Norte     ┆   ┆ 3         ┆ 3         ┆           ┆ dias     │\n",
       "│ WO0000004 ┆ PLAZA     ┆ 191058    ┆ Zona      ┆ … ┆ null      ┆ 2022-06-0 ┆ 5         ┆ 3 a 7    │\n",
       "│ 122387    ┆ LIMA      ┆           ┆ Centro    ┆   ┆           ┆ 6         ┆           ┆ dias     │\n",
       "│           ┆ NORTE     ┆           ┆           ┆   ┆           ┆           ┆           ┆          │\n",
       "└───────────┴───────────┴───────────┴───────────┴───┴───────────┴───────────┴───────────┴──────────┘"
      ]
     },
     "execution_count": 143,
     "metadata": {},
     "output_type": "execute_result"
    }
   ],
   "source": [
    "Tickets.head()"
   ]
  },
  {
   "cell_type": "markdown",
   "metadata": {},
   "source": [
    "#### Aplicando un join entre Atenciones y Ticket\n"
   ]
  },
  {
   "cell_type": "code",
   "execution_count": 144,
   "metadata": {},
   "outputs": [
    {
     "data": {
      "text/html": [
       "<div><style>\n",
       ".dataframe > thead > tr,\n",
       ".dataframe > tbody > tr {\n",
       "  text-align: right;\n",
       "  white-space: pre-wrap;\n",
       "}\n",
       "</style>\n",
       "<small>shape: (5, 10)</small><table border=\"1\" class=\"dataframe\"><thead><tr><th>TicketID</th><th>AgenciaID</th><th>Agencia</th><th>Service Desk</th><th>Estado</th><th>Fecha Creacion</th><th>Fecha Cierre</th><th>Grupo Dias</th><th>Tipo Ticket</th><th>Costo</th></tr><tr><td>str</td><td>i64</td><td>str</td><td>str</td><td>str</td><td>date</td><td>date</td><td>str</td><td>str</td><td>f64</td></tr></thead><tbody><tr><td>&quot;WO0000004149361&quot;</td><td>191023</td><td>&quot;EDUARDO DE HABICH&quot;</td><td>&quot;Zona Sur&quot;</td><td>&quot;Rechazado&quot;</td><td>2022-06-10</td><td>null</td><td>&quot;0 a 3 dias&quot;</td><td>&quot;Rechazado&quot;</td><td>null</td></tr><tr><td>&quot;WO0000004849382&quot;</td><td>193038</td><td>&quot;LOS DAMASCOS&quot;</td><td>&quot;Zona Sur&quot;</td><td>&quot;Cerrado&quot;</td><td>2022-12-31</td><td>2023-01-07</td><td>&quot;3 a 7 dias&quot;</td><td>&quot;Variable&quot;</td><td>null</td></tr><tr><td>&quot;WO0000004849382&quot;</td><td>193038</td><td>&quot;LOS DAMASCOS&quot;</td><td>&quot;Zona Sur&quot;</td><td>&quot;Cerrado&quot;</td><td>2022-12-31</td><td>2023-01-07</td><td>&quot;3 a 7 dias&quot;</td><td>&quot;Variable&quot;</td><td>null</td></tr><tr><td>&quot;WO0000004849382&quot;</td><td>193038</td><td>&quot;LOS DAMASCOS&quot;</td><td>&quot;Zona Sur&quot;</td><td>&quot;Cerrado&quot;</td><td>2022-12-31</td><td>2023-01-07</td><td>&quot;3 a 7 dias&quot;</td><td>&quot;Variable&quot;</td><td>null</td></tr><tr><td>&quot;WO0000004849382&quot;</td><td>193038</td><td>&quot;LOS DAMASCOS&quot;</td><td>&quot;Zona Sur&quot;</td><td>&quot;Cerrado&quot;</td><td>2022-12-31</td><td>2023-01-07</td><td>&quot;3 a 7 dias&quot;</td><td>&quot;Variable&quot;</td><td>null</td></tr></tbody></table></div>"
      ],
      "text/plain": [
       "shape: (5, 10)\n",
       "┌─────────────┬───────────┬─────────────┬────────────┬───┬────────────┬───────┬────────────┬───────┐\n",
       "│ TicketID    ┆ AgenciaID ┆ Agencia     ┆ Service    ┆ … ┆ Fecha      ┆ Grupo ┆ Tipo       ┆ Costo │\n",
       "│ ---         ┆ ---       ┆ ---         ┆ Desk       ┆   ┆ Cierre     ┆ Dias  ┆ Ticket     ┆ ---   │\n",
       "│ str         ┆ i64       ┆ str         ┆ ---        ┆   ┆ ---        ┆ ---   ┆ ---        ┆ f64   │\n",
       "│             ┆           ┆             ┆ str        ┆   ┆ date       ┆ str   ┆ str        ┆       │\n",
       "╞═════════════╪═══════════╪═════════════╪════════════╪═══╪════════════╪═══════╪════════════╪═══════╡\n",
       "│ WO000000414 ┆ 191023    ┆ EDUARDO DE  ┆ Zona Sur   ┆ … ┆ null       ┆ 0 a 3 ┆ Rechazado  ┆ null  │\n",
       "│ 9361        ┆           ┆ HABICH      ┆            ┆   ┆            ┆ dias  ┆            ┆       │\n",
       "│ WO000000484 ┆ 193038    ┆ LOS         ┆ Zona Sur   ┆ … ┆ 2023-01-07 ┆ 3 a 7 ┆ Variable   ┆ null  │\n",
       "│ 9382        ┆           ┆ DAMASCOS    ┆            ┆   ┆            ┆ dias  ┆            ┆       │\n",
       "│ WO000000484 ┆ 193038    ┆ LOS         ┆ Zona Sur   ┆ … ┆ 2023-01-07 ┆ 3 a 7 ┆ Variable   ┆ null  │\n",
       "│ 9382        ┆           ┆ DAMASCOS    ┆            ┆   ┆            ┆ dias  ┆            ┆       │\n",
       "│ WO000000484 ┆ 193038    ┆ LOS         ┆ Zona Sur   ┆ … ┆ 2023-01-07 ┆ 3 a 7 ┆ Variable   ┆ null  │\n",
       "│ 9382        ┆           ┆ DAMASCOS    ┆            ┆   ┆            ┆ dias  ┆            ┆       │\n",
       "│ WO000000484 ┆ 193038    ┆ LOS         ┆ Zona Sur   ┆ … ┆ 2023-01-07 ┆ 3 a 7 ┆ Variable   ┆ null  │\n",
       "│ 9382        ┆           ┆ DAMASCOS    ┆            ┆   ┆            ┆ dias  ┆            ┆       │\n",
       "└─────────────┴───────────┴─────────────┴────────────┴───┴────────────┴───────┴────────────┴───────┘"
      ]
     },
     "execution_count": 144,
     "metadata": {},
     "output_type": "execute_result"
    }
   ],
   "source": [
    "BaseTotal = Tickets.join(\n",
    "    other=Atenciones,\n",
    "    right_on='Numero Ticket',\n",
    "    left_on='TicketID',\n",
    "    how='inner'\n",
    ").select(\n",
    "    pl.col(['TicketID','AgenciaID','Agencia','Service Desk','Estado','Fecha Creacion','Fecha Cierre','Grupo Dias']),\n",
    "    pl.col('Tipo de Ticket').alias('Tipo Ticket'),\n",
    "    pl.col('Costo Atencion').alias('Costo')\n",
    ")\n",
    "\n",
    "BaseTotal.head()"
   ]
  },
  {
   "cell_type": "code",
   "execution_count": null,
   "metadata": {},
   "outputs": [],
   "source": [
    "BaseTotal.write_excel(\n",
    "    workbook='Tickets_Atenciones.xlsx',\n",
    "    autofit=True,\n",
    "    dtype_formats={\n",
    "        pl.Date :\"dd/mm/yyyy\"\n",
    "    },\n",
    "    float_precision=2,\n",
    "    table_style='Table Style Medium 4'\n",
    "\n",
    "\n",
    ")"
   ]
  }
 ],
 "metadata": {
  "kernelspec": {
   "display_name": "vEdicion2",
   "language": "python",
   "name": "python3"
  },
  "language_info": {
   "codemirror_mode": {
    "name": "ipython",
    "version": 3
   },
   "file_extension": ".py",
   "mimetype": "text/x-python",
   "name": "python",
   "nbconvert_exporter": "python",
   "pygments_lexer": "ipython3",
   "version": "3.11.9"
  }
 },
 "nbformat": 4,
 "nbformat_minor": 2
}
